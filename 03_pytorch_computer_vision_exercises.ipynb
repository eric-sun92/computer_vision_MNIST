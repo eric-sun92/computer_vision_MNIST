{
  "nbformat": 4,
  "nbformat_minor": 0,
  "metadata": {
    "colab": {
      "name": "03_pytorch_computer_vision_exercises.ipynb",
      "provenance": [],
      "include_colab_link": true
    },
    "kernelspec": {
      "name": "python3",
      "display_name": "Python 3"
    },
    "language_info": {
      "name": "python"
    },
    "accelerator": "GPU",
    "widgets": {
      "application/vnd.jupyter.widget-state+json": {
        "4807f64683f148b390959a89b92f4f61": {
          "model_module": "@jupyter-widgets/controls",
          "model_name": "HBoxModel",
          "model_module_version": "1.5.0",
          "state": {
            "_dom_classes": [],
            "_model_module": "@jupyter-widgets/controls",
            "_model_module_version": "1.5.0",
            "_model_name": "HBoxModel",
            "_view_count": null,
            "_view_module": "@jupyter-widgets/controls",
            "_view_module_version": "1.5.0",
            "_view_name": "HBoxView",
            "box_style": "",
            "children": [
              "IPY_MODEL_b32c6c1c57364b19a05099ccf5fc704e",
              "IPY_MODEL_a3f45eaf854441828db4c7abe046f1ab",
              "IPY_MODEL_d844b52805b842a58291e0436703641e"
            ],
            "layout": "IPY_MODEL_ca0319ed3214440a8bd09cabea324034"
          }
        },
        "b32c6c1c57364b19a05099ccf5fc704e": {
          "model_module": "@jupyter-widgets/controls",
          "model_name": "HTMLModel",
          "model_module_version": "1.5.0",
          "state": {
            "_dom_classes": [],
            "_model_module": "@jupyter-widgets/controls",
            "_model_module_version": "1.5.0",
            "_model_name": "HTMLModel",
            "_view_count": null,
            "_view_module": "@jupyter-widgets/controls",
            "_view_module_version": "1.5.0",
            "_view_name": "HTMLView",
            "description": "",
            "description_tooltip": null,
            "layout": "IPY_MODEL_a36ec4c85c954581bb2de2b131ecc716",
            "placeholder": "​",
            "style": "IPY_MODEL_72c9a9ac0ff04425bcbd420cb451125b",
            "value": "100%"
          }
        },
        "a3f45eaf854441828db4c7abe046f1ab": {
          "model_module": "@jupyter-widgets/controls",
          "model_name": "FloatProgressModel",
          "model_module_version": "1.5.0",
          "state": {
            "_dom_classes": [],
            "_model_module": "@jupyter-widgets/controls",
            "_model_module_version": "1.5.0",
            "_model_name": "FloatProgressModel",
            "_view_count": null,
            "_view_module": "@jupyter-widgets/controls",
            "_view_module_version": "1.5.0",
            "_view_name": "ProgressView",
            "bar_style": "success",
            "description": "",
            "description_tooltip": null,
            "layout": "IPY_MODEL_671f41794220430591427c55b19ed435",
            "max": 5,
            "min": 0,
            "orientation": "horizontal",
            "style": "IPY_MODEL_88f773c9c4db4f4a9fd5cc61dfe7f0ce",
            "value": 5
          }
        },
        "d844b52805b842a58291e0436703641e": {
          "model_module": "@jupyter-widgets/controls",
          "model_name": "HTMLModel",
          "model_module_version": "1.5.0",
          "state": {
            "_dom_classes": [],
            "_model_module": "@jupyter-widgets/controls",
            "_model_module_version": "1.5.0",
            "_model_name": "HTMLModel",
            "_view_count": null,
            "_view_module": "@jupyter-widgets/controls",
            "_view_module_version": "1.5.0",
            "_view_name": "HTMLView",
            "description": "",
            "description_tooltip": null,
            "layout": "IPY_MODEL_ec6abced51344531851fd761a9cf4914",
            "placeholder": "​",
            "style": "IPY_MODEL_3c8dfb8bb5944619a7a438e044e9cf93",
            "value": " 5/5 [06:44&lt;00:00, 78.01s/it]"
          }
        },
        "ca0319ed3214440a8bd09cabea324034": {
          "model_module": "@jupyter-widgets/base",
          "model_name": "LayoutModel",
          "model_module_version": "1.2.0",
          "state": {
            "_model_module": "@jupyter-widgets/base",
            "_model_module_version": "1.2.0",
            "_model_name": "LayoutModel",
            "_view_count": null,
            "_view_module": "@jupyter-widgets/base",
            "_view_module_version": "1.2.0",
            "_view_name": "LayoutView",
            "align_content": null,
            "align_items": null,
            "align_self": null,
            "border": null,
            "bottom": null,
            "display": null,
            "flex": null,
            "flex_flow": null,
            "grid_area": null,
            "grid_auto_columns": null,
            "grid_auto_flow": null,
            "grid_auto_rows": null,
            "grid_column": null,
            "grid_gap": null,
            "grid_row": null,
            "grid_template_areas": null,
            "grid_template_columns": null,
            "grid_template_rows": null,
            "height": null,
            "justify_content": null,
            "justify_items": null,
            "left": null,
            "margin": null,
            "max_height": null,
            "max_width": null,
            "min_height": null,
            "min_width": null,
            "object_fit": null,
            "object_position": null,
            "order": null,
            "overflow": null,
            "overflow_x": null,
            "overflow_y": null,
            "padding": null,
            "right": null,
            "top": null,
            "visibility": null,
            "width": null
          }
        },
        "a36ec4c85c954581bb2de2b131ecc716": {
          "model_module": "@jupyter-widgets/base",
          "model_name": "LayoutModel",
          "model_module_version": "1.2.0",
          "state": {
            "_model_module": "@jupyter-widgets/base",
            "_model_module_version": "1.2.0",
            "_model_name": "LayoutModel",
            "_view_count": null,
            "_view_module": "@jupyter-widgets/base",
            "_view_module_version": "1.2.0",
            "_view_name": "LayoutView",
            "align_content": null,
            "align_items": null,
            "align_self": null,
            "border": null,
            "bottom": null,
            "display": null,
            "flex": null,
            "flex_flow": null,
            "grid_area": null,
            "grid_auto_columns": null,
            "grid_auto_flow": null,
            "grid_auto_rows": null,
            "grid_column": null,
            "grid_gap": null,
            "grid_row": null,
            "grid_template_areas": null,
            "grid_template_columns": null,
            "grid_template_rows": null,
            "height": null,
            "justify_content": null,
            "justify_items": null,
            "left": null,
            "margin": null,
            "max_height": null,
            "max_width": null,
            "min_height": null,
            "min_width": null,
            "object_fit": null,
            "object_position": null,
            "order": null,
            "overflow": null,
            "overflow_x": null,
            "overflow_y": null,
            "padding": null,
            "right": null,
            "top": null,
            "visibility": null,
            "width": null
          }
        },
        "72c9a9ac0ff04425bcbd420cb451125b": {
          "model_module": "@jupyter-widgets/controls",
          "model_name": "DescriptionStyleModel",
          "model_module_version": "1.5.0",
          "state": {
            "_model_module": "@jupyter-widgets/controls",
            "_model_module_version": "1.5.0",
            "_model_name": "DescriptionStyleModel",
            "_view_count": null,
            "_view_module": "@jupyter-widgets/base",
            "_view_module_version": "1.2.0",
            "_view_name": "StyleView",
            "description_width": ""
          }
        },
        "671f41794220430591427c55b19ed435": {
          "model_module": "@jupyter-widgets/base",
          "model_name": "LayoutModel",
          "model_module_version": "1.2.0",
          "state": {
            "_model_module": "@jupyter-widgets/base",
            "_model_module_version": "1.2.0",
            "_model_name": "LayoutModel",
            "_view_count": null,
            "_view_module": "@jupyter-widgets/base",
            "_view_module_version": "1.2.0",
            "_view_name": "LayoutView",
            "align_content": null,
            "align_items": null,
            "align_self": null,
            "border": null,
            "bottom": null,
            "display": null,
            "flex": null,
            "flex_flow": null,
            "grid_area": null,
            "grid_auto_columns": null,
            "grid_auto_flow": null,
            "grid_auto_rows": null,
            "grid_column": null,
            "grid_gap": null,
            "grid_row": null,
            "grid_template_areas": null,
            "grid_template_columns": null,
            "grid_template_rows": null,
            "height": null,
            "justify_content": null,
            "justify_items": null,
            "left": null,
            "margin": null,
            "max_height": null,
            "max_width": null,
            "min_height": null,
            "min_width": null,
            "object_fit": null,
            "object_position": null,
            "order": null,
            "overflow": null,
            "overflow_x": null,
            "overflow_y": null,
            "padding": null,
            "right": null,
            "top": null,
            "visibility": null,
            "width": null
          }
        },
        "88f773c9c4db4f4a9fd5cc61dfe7f0ce": {
          "model_module": "@jupyter-widgets/controls",
          "model_name": "ProgressStyleModel",
          "model_module_version": "1.5.0",
          "state": {
            "_model_module": "@jupyter-widgets/controls",
            "_model_module_version": "1.5.0",
            "_model_name": "ProgressStyleModel",
            "_view_count": null,
            "_view_module": "@jupyter-widgets/base",
            "_view_module_version": "1.2.0",
            "_view_name": "StyleView",
            "bar_color": null,
            "description_width": ""
          }
        },
        "ec6abced51344531851fd761a9cf4914": {
          "model_module": "@jupyter-widgets/base",
          "model_name": "LayoutModel",
          "model_module_version": "1.2.0",
          "state": {
            "_model_module": "@jupyter-widgets/base",
            "_model_module_version": "1.2.0",
            "_model_name": "LayoutModel",
            "_view_count": null,
            "_view_module": "@jupyter-widgets/base",
            "_view_module_version": "1.2.0",
            "_view_name": "LayoutView",
            "align_content": null,
            "align_items": null,
            "align_self": null,
            "border": null,
            "bottom": null,
            "display": null,
            "flex": null,
            "flex_flow": null,
            "grid_area": null,
            "grid_auto_columns": null,
            "grid_auto_flow": null,
            "grid_auto_rows": null,
            "grid_column": null,
            "grid_gap": null,
            "grid_row": null,
            "grid_template_areas": null,
            "grid_template_columns": null,
            "grid_template_rows": null,
            "height": null,
            "justify_content": null,
            "justify_items": null,
            "left": null,
            "margin": null,
            "max_height": null,
            "max_width": null,
            "min_height": null,
            "min_width": null,
            "object_fit": null,
            "object_position": null,
            "order": null,
            "overflow": null,
            "overflow_x": null,
            "overflow_y": null,
            "padding": null,
            "right": null,
            "top": null,
            "visibility": null,
            "width": null
          }
        },
        "3c8dfb8bb5944619a7a438e044e9cf93": {
          "model_module": "@jupyter-widgets/controls",
          "model_name": "DescriptionStyleModel",
          "model_module_version": "1.5.0",
          "state": {
            "_model_module": "@jupyter-widgets/controls",
            "_model_module_version": "1.5.0",
            "_model_name": "DescriptionStyleModel",
            "_view_count": null,
            "_view_module": "@jupyter-widgets/base",
            "_view_module_version": "1.2.0",
            "_view_name": "StyleView",
            "description_width": ""
          }
        },
        "7a6ef82970c14d7b8c90c10c5843aacc": {
          "model_module": "@jupyter-widgets/controls",
          "model_name": "HBoxModel",
          "model_module_version": "1.5.0",
          "state": {
            "_dom_classes": [],
            "_model_module": "@jupyter-widgets/controls",
            "_model_module_version": "1.5.0",
            "_model_name": "HBoxModel",
            "_view_count": null,
            "_view_module": "@jupyter-widgets/controls",
            "_view_module_version": "1.5.0",
            "_view_name": "HBoxView",
            "box_style": "",
            "children": [
              "IPY_MODEL_c054a5b6ca1440dd9394b4ce753e80f6",
              "IPY_MODEL_efbed30ed61b4513b4da9b10c105c3f6",
              "IPY_MODEL_b69265e5827a4de4a862bff8d2319690"
            ],
            "layout": "IPY_MODEL_8c91dbc4161a434fb4d1d9b07f9f01ba"
          }
        },
        "c054a5b6ca1440dd9394b4ce753e80f6": {
          "model_module": "@jupyter-widgets/controls",
          "model_name": "HTMLModel",
          "model_module_version": "1.5.0",
          "state": {
            "_dom_classes": [],
            "_model_module": "@jupyter-widgets/controls",
            "_model_module_version": "1.5.0",
            "_model_name": "HTMLModel",
            "_view_count": null,
            "_view_module": "@jupyter-widgets/controls",
            "_view_module_version": "1.5.0",
            "_view_name": "HTMLView",
            "description": "",
            "description_tooltip": null,
            "layout": "IPY_MODEL_5d8d3101b36c4d6b846ba7ad1c2ea846",
            "placeholder": "​",
            "style": "IPY_MODEL_dad699736df1447d9ab5c87a4a7a1194",
            "value": "100%"
          }
        },
        "efbed30ed61b4513b4da9b10c105c3f6": {
          "model_module": "@jupyter-widgets/controls",
          "model_name": "FloatProgressModel",
          "model_module_version": "1.5.0",
          "state": {
            "_dom_classes": [],
            "_model_module": "@jupyter-widgets/controls",
            "_model_module_version": "1.5.0",
            "_model_name": "FloatProgressModel",
            "_view_count": null,
            "_view_module": "@jupyter-widgets/controls",
            "_view_module_version": "1.5.0",
            "_view_name": "ProgressView",
            "bar_style": "success",
            "description": "",
            "description_tooltip": null,
            "layout": "IPY_MODEL_10d6b5f9d8cb4aaa9b9bd04feb85d721",
            "max": 4,
            "min": 0,
            "orientation": "horizontal",
            "style": "IPY_MODEL_25fb18f315574bdeb86fd86543b0ce23",
            "value": 4
          }
        },
        "b69265e5827a4de4a862bff8d2319690": {
          "model_module": "@jupyter-widgets/controls",
          "model_name": "HTMLModel",
          "model_module_version": "1.5.0",
          "state": {
            "_dom_classes": [],
            "_model_module": "@jupyter-widgets/controls",
            "_model_module_version": "1.5.0",
            "_model_name": "HTMLModel",
            "_view_count": null,
            "_view_module": "@jupyter-widgets/controls",
            "_view_module_version": "1.5.0",
            "_view_name": "HTMLView",
            "description": "",
            "description_tooltip": null,
            "layout": "IPY_MODEL_8dbd61fa242c421ca42afd133782d53c",
            "placeholder": "​",
            "style": "IPY_MODEL_15cd570963394059ae9be2fa04a249dc",
            "value": " 4/4 [05:15&lt;00:00, 78.62s/it]"
          }
        },
        "8c91dbc4161a434fb4d1d9b07f9f01ba": {
          "model_module": "@jupyter-widgets/base",
          "model_name": "LayoutModel",
          "model_module_version": "1.2.0",
          "state": {
            "_model_module": "@jupyter-widgets/base",
            "_model_module_version": "1.2.0",
            "_model_name": "LayoutModel",
            "_view_count": null,
            "_view_module": "@jupyter-widgets/base",
            "_view_module_version": "1.2.0",
            "_view_name": "LayoutView",
            "align_content": null,
            "align_items": null,
            "align_self": null,
            "border": null,
            "bottom": null,
            "display": null,
            "flex": null,
            "flex_flow": null,
            "grid_area": null,
            "grid_auto_columns": null,
            "grid_auto_flow": null,
            "grid_auto_rows": null,
            "grid_column": null,
            "grid_gap": null,
            "grid_row": null,
            "grid_template_areas": null,
            "grid_template_columns": null,
            "grid_template_rows": null,
            "height": null,
            "justify_content": null,
            "justify_items": null,
            "left": null,
            "margin": null,
            "max_height": null,
            "max_width": null,
            "min_height": null,
            "min_width": null,
            "object_fit": null,
            "object_position": null,
            "order": null,
            "overflow": null,
            "overflow_x": null,
            "overflow_y": null,
            "padding": null,
            "right": null,
            "top": null,
            "visibility": null,
            "width": null
          }
        },
        "5d8d3101b36c4d6b846ba7ad1c2ea846": {
          "model_module": "@jupyter-widgets/base",
          "model_name": "LayoutModel",
          "model_module_version": "1.2.0",
          "state": {
            "_model_module": "@jupyter-widgets/base",
            "_model_module_version": "1.2.0",
            "_model_name": "LayoutModel",
            "_view_count": null,
            "_view_module": "@jupyter-widgets/base",
            "_view_module_version": "1.2.0",
            "_view_name": "LayoutView",
            "align_content": null,
            "align_items": null,
            "align_self": null,
            "border": null,
            "bottom": null,
            "display": null,
            "flex": null,
            "flex_flow": null,
            "grid_area": null,
            "grid_auto_columns": null,
            "grid_auto_flow": null,
            "grid_auto_rows": null,
            "grid_column": null,
            "grid_gap": null,
            "grid_row": null,
            "grid_template_areas": null,
            "grid_template_columns": null,
            "grid_template_rows": null,
            "height": null,
            "justify_content": null,
            "justify_items": null,
            "left": null,
            "margin": null,
            "max_height": null,
            "max_width": null,
            "min_height": null,
            "min_width": null,
            "object_fit": null,
            "object_position": null,
            "order": null,
            "overflow": null,
            "overflow_x": null,
            "overflow_y": null,
            "padding": null,
            "right": null,
            "top": null,
            "visibility": null,
            "width": null
          }
        },
        "dad699736df1447d9ab5c87a4a7a1194": {
          "model_module": "@jupyter-widgets/controls",
          "model_name": "DescriptionStyleModel",
          "model_module_version": "1.5.0",
          "state": {
            "_model_module": "@jupyter-widgets/controls",
            "_model_module_version": "1.5.0",
            "_model_name": "DescriptionStyleModel",
            "_view_count": null,
            "_view_module": "@jupyter-widgets/base",
            "_view_module_version": "1.2.0",
            "_view_name": "StyleView",
            "description_width": ""
          }
        },
        "10d6b5f9d8cb4aaa9b9bd04feb85d721": {
          "model_module": "@jupyter-widgets/base",
          "model_name": "LayoutModel",
          "model_module_version": "1.2.0",
          "state": {
            "_model_module": "@jupyter-widgets/base",
            "_model_module_version": "1.2.0",
            "_model_name": "LayoutModel",
            "_view_count": null,
            "_view_module": "@jupyter-widgets/base",
            "_view_module_version": "1.2.0",
            "_view_name": "LayoutView",
            "align_content": null,
            "align_items": null,
            "align_self": null,
            "border": null,
            "bottom": null,
            "display": null,
            "flex": null,
            "flex_flow": null,
            "grid_area": null,
            "grid_auto_columns": null,
            "grid_auto_flow": null,
            "grid_auto_rows": null,
            "grid_column": null,
            "grid_gap": null,
            "grid_row": null,
            "grid_template_areas": null,
            "grid_template_columns": null,
            "grid_template_rows": null,
            "height": null,
            "justify_content": null,
            "justify_items": null,
            "left": null,
            "margin": null,
            "max_height": null,
            "max_width": null,
            "min_height": null,
            "min_width": null,
            "object_fit": null,
            "object_position": null,
            "order": null,
            "overflow": null,
            "overflow_x": null,
            "overflow_y": null,
            "padding": null,
            "right": null,
            "top": null,
            "visibility": null,
            "width": null
          }
        },
        "25fb18f315574bdeb86fd86543b0ce23": {
          "model_module": "@jupyter-widgets/controls",
          "model_name": "ProgressStyleModel",
          "model_module_version": "1.5.0",
          "state": {
            "_model_module": "@jupyter-widgets/controls",
            "_model_module_version": "1.5.0",
            "_model_name": "ProgressStyleModel",
            "_view_count": null,
            "_view_module": "@jupyter-widgets/base",
            "_view_module_version": "1.2.0",
            "_view_name": "StyleView",
            "bar_color": null,
            "description_width": ""
          }
        },
        "8dbd61fa242c421ca42afd133782d53c": {
          "model_module": "@jupyter-widgets/base",
          "model_name": "LayoutModel",
          "model_module_version": "1.2.0",
          "state": {
            "_model_module": "@jupyter-widgets/base",
            "_model_module_version": "1.2.0",
            "_model_name": "LayoutModel",
            "_view_count": null,
            "_view_module": "@jupyter-widgets/base",
            "_view_module_version": "1.2.0",
            "_view_name": "LayoutView",
            "align_content": null,
            "align_items": null,
            "align_self": null,
            "border": null,
            "bottom": null,
            "display": null,
            "flex": null,
            "flex_flow": null,
            "grid_area": null,
            "grid_auto_columns": null,
            "grid_auto_flow": null,
            "grid_auto_rows": null,
            "grid_column": null,
            "grid_gap": null,
            "grid_row": null,
            "grid_template_areas": null,
            "grid_template_columns": null,
            "grid_template_rows": null,
            "height": null,
            "justify_content": null,
            "justify_items": null,
            "left": null,
            "margin": null,
            "max_height": null,
            "max_width": null,
            "min_height": null,
            "min_width": null,
            "object_fit": null,
            "object_position": null,
            "order": null,
            "overflow": null,
            "overflow_x": null,
            "overflow_y": null,
            "padding": null,
            "right": null,
            "top": null,
            "visibility": null,
            "width": null
          }
        },
        "15cd570963394059ae9be2fa04a249dc": {
          "model_module": "@jupyter-widgets/controls",
          "model_name": "DescriptionStyleModel",
          "model_module_version": "1.5.0",
          "state": {
            "_model_module": "@jupyter-widgets/controls",
            "_model_module_version": "1.5.0",
            "_model_name": "DescriptionStyleModel",
            "_view_count": null,
            "_view_module": "@jupyter-widgets/base",
            "_view_module_version": "1.2.0",
            "_view_name": "StyleView",
            "description_width": ""
          }
        },
        "163ed6123ec44d9e8065a3df44a22a32": {
          "model_module": "@jupyter-widgets/controls",
          "model_name": "HBoxModel",
          "model_module_version": "1.5.0",
          "state": {
            "_dom_classes": [],
            "_model_module": "@jupyter-widgets/controls",
            "_model_module_version": "1.5.0",
            "_model_name": "HBoxModel",
            "_view_count": null,
            "_view_module": "@jupyter-widgets/controls",
            "_view_module_version": "1.5.0",
            "_view_name": "HBoxView",
            "box_style": "",
            "children": [
              "IPY_MODEL_cef6c61206504a1e950c5447fc93e80b",
              "IPY_MODEL_29b891ea53104b64a7b7a0ab8a7333b6",
              "IPY_MODEL_bc8ebf3f4ae74e5192bd493703cd293a"
            ],
            "layout": "IPY_MODEL_f0dfdc5cc13e4e2180afc1130349c0e0"
          }
        },
        "cef6c61206504a1e950c5447fc93e80b": {
          "model_module": "@jupyter-widgets/controls",
          "model_name": "HTMLModel",
          "model_module_version": "1.5.0",
          "state": {
            "_dom_classes": [],
            "_model_module": "@jupyter-widgets/controls",
            "_model_module_version": "1.5.0",
            "_model_name": "HTMLModel",
            "_view_count": null,
            "_view_module": "@jupyter-widgets/controls",
            "_view_module_version": "1.5.0",
            "_view_name": "HTMLView",
            "description": "",
            "description_tooltip": null,
            "layout": "IPY_MODEL_06bd6f8df8924b5d833407acf9f93b52",
            "placeholder": "​",
            "style": "IPY_MODEL_8506add3e66a4a0a91fb46b3d1645fad",
            "value": ""
          }
        },
        "29b891ea53104b64a7b7a0ab8a7333b6": {
          "model_module": "@jupyter-widgets/controls",
          "model_name": "FloatProgressModel",
          "model_module_version": "1.5.0",
          "state": {
            "_dom_classes": [],
            "_model_module": "@jupyter-widgets/controls",
            "_model_module_version": "1.5.0",
            "_model_name": "FloatProgressModel",
            "_view_count": null,
            "_view_module": "@jupyter-widgets/controls",
            "_view_module_version": "1.5.0",
            "_view_name": "ProgressView",
            "bar_style": "success",
            "description": "",
            "description_tooltip": null,
            "layout": "IPY_MODEL_42b3865336eb47ed99446ed455604e2b",
            "max": 1,
            "min": 0,
            "orientation": "horizontal",
            "style": "IPY_MODEL_8642fbd2ff254aeb9ba5da6b97519119",
            "value": 1
          }
        },
        "bc8ebf3f4ae74e5192bd493703cd293a": {
          "model_module": "@jupyter-widgets/controls",
          "model_name": "HTMLModel",
          "model_module_version": "1.5.0",
          "state": {
            "_dom_classes": [],
            "_model_module": "@jupyter-widgets/controls",
            "_model_module_version": "1.5.0",
            "_model_name": "HTMLModel",
            "_view_count": null,
            "_view_module": "@jupyter-widgets/controls",
            "_view_module_version": "1.5.0",
            "_view_name": "HTMLView",
            "description": "",
            "description_tooltip": null,
            "layout": "IPY_MODEL_bcf85172e51b4a8ea2f6bc7937ec3602",
            "placeholder": "​",
            "style": "IPY_MODEL_8bfb33ddd7484771a39ba703fadcfa2d",
            "value": " 60000/? [00:51&lt;00:00, 1077.30it/s]"
          }
        },
        "f0dfdc5cc13e4e2180afc1130349c0e0": {
          "model_module": "@jupyter-widgets/base",
          "model_name": "LayoutModel",
          "model_module_version": "1.2.0",
          "state": {
            "_model_module": "@jupyter-widgets/base",
            "_model_module_version": "1.2.0",
            "_model_name": "LayoutModel",
            "_view_count": null,
            "_view_module": "@jupyter-widgets/base",
            "_view_module_version": "1.2.0",
            "_view_name": "LayoutView",
            "align_content": null,
            "align_items": null,
            "align_self": null,
            "border": null,
            "bottom": null,
            "display": null,
            "flex": null,
            "flex_flow": null,
            "grid_area": null,
            "grid_auto_columns": null,
            "grid_auto_flow": null,
            "grid_auto_rows": null,
            "grid_column": null,
            "grid_gap": null,
            "grid_row": null,
            "grid_template_areas": null,
            "grid_template_columns": null,
            "grid_template_rows": null,
            "height": null,
            "justify_content": null,
            "justify_items": null,
            "left": null,
            "margin": null,
            "max_height": null,
            "max_width": null,
            "min_height": null,
            "min_width": null,
            "object_fit": null,
            "object_position": null,
            "order": null,
            "overflow": null,
            "overflow_x": null,
            "overflow_y": null,
            "padding": null,
            "right": null,
            "top": null,
            "visibility": null,
            "width": null
          }
        },
        "06bd6f8df8924b5d833407acf9f93b52": {
          "model_module": "@jupyter-widgets/base",
          "model_name": "LayoutModel",
          "model_module_version": "1.2.0",
          "state": {
            "_model_module": "@jupyter-widgets/base",
            "_model_module_version": "1.2.0",
            "_model_name": "LayoutModel",
            "_view_count": null,
            "_view_module": "@jupyter-widgets/base",
            "_view_module_version": "1.2.0",
            "_view_name": "LayoutView",
            "align_content": null,
            "align_items": null,
            "align_self": null,
            "border": null,
            "bottom": null,
            "display": null,
            "flex": null,
            "flex_flow": null,
            "grid_area": null,
            "grid_auto_columns": null,
            "grid_auto_flow": null,
            "grid_auto_rows": null,
            "grid_column": null,
            "grid_gap": null,
            "grid_row": null,
            "grid_template_areas": null,
            "grid_template_columns": null,
            "grid_template_rows": null,
            "height": null,
            "justify_content": null,
            "justify_items": null,
            "left": null,
            "margin": null,
            "max_height": null,
            "max_width": null,
            "min_height": null,
            "min_width": null,
            "object_fit": null,
            "object_position": null,
            "order": null,
            "overflow": null,
            "overflow_x": null,
            "overflow_y": null,
            "padding": null,
            "right": null,
            "top": null,
            "visibility": null,
            "width": null
          }
        },
        "8506add3e66a4a0a91fb46b3d1645fad": {
          "model_module": "@jupyter-widgets/controls",
          "model_name": "DescriptionStyleModel",
          "model_module_version": "1.5.0",
          "state": {
            "_model_module": "@jupyter-widgets/controls",
            "_model_module_version": "1.5.0",
            "_model_name": "DescriptionStyleModel",
            "_view_count": null,
            "_view_module": "@jupyter-widgets/base",
            "_view_module_version": "1.2.0",
            "_view_name": "StyleView",
            "description_width": ""
          }
        },
        "42b3865336eb47ed99446ed455604e2b": {
          "model_module": "@jupyter-widgets/base",
          "model_name": "LayoutModel",
          "model_module_version": "1.2.0",
          "state": {
            "_model_module": "@jupyter-widgets/base",
            "_model_module_version": "1.2.0",
            "_model_name": "LayoutModel",
            "_view_count": null,
            "_view_module": "@jupyter-widgets/base",
            "_view_module_version": "1.2.0",
            "_view_name": "LayoutView",
            "align_content": null,
            "align_items": null,
            "align_self": null,
            "border": null,
            "bottom": null,
            "display": null,
            "flex": null,
            "flex_flow": null,
            "grid_area": null,
            "grid_auto_columns": null,
            "grid_auto_flow": null,
            "grid_auto_rows": null,
            "grid_column": null,
            "grid_gap": null,
            "grid_row": null,
            "grid_template_areas": null,
            "grid_template_columns": null,
            "grid_template_rows": null,
            "height": null,
            "justify_content": null,
            "justify_items": null,
            "left": null,
            "margin": null,
            "max_height": null,
            "max_width": null,
            "min_height": null,
            "min_width": null,
            "object_fit": null,
            "object_position": null,
            "order": null,
            "overflow": null,
            "overflow_x": null,
            "overflow_y": null,
            "padding": null,
            "right": null,
            "top": null,
            "visibility": null,
            "width": "20px"
          }
        },
        "8642fbd2ff254aeb9ba5da6b97519119": {
          "model_module": "@jupyter-widgets/controls",
          "model_name": "ProgressStyleModel",
          "model_module_version": "1.5.0",
          "state": {
            "_model_module": "@jupyter-widgets/controls",
            "_model_module_version": "1.5.0",
            "_model_name": "ProgressStyleModel",
            "_view_count": null,
            "_view_module": "@jupyter-widgets/base",
            "_view_module_version": "1.2.0",
            "_view_name": "StyleView",
            "bar_color": null,
            "description_width": ""
          }
        },
        "bcf85172e51b4a8ea2f6bc7937ec3602": {
          "model_module": "@jupyter-widgets/base",
          "model_name": "LayoutModel",
          "model_module_version": "1.2.0",
          "state": {
            "_model_module": "@jupyter-widgets/base",
            "_model_module_version": "1.2.0",
            "_model_name": "LayoutModel",
            "_view_count": null,
            "_view_module": "@jupyter-widgets/base",
            "_view_module_version": "1.2.0",
            "_view_name": "LayoutView",
            "align_content": null,
            "align_items": null,
            "align_self": null,
            "border": null,
            "bottom": null,
            "display": null,
            "flex": null,
            "flex_flow": null,
            "grid_area": null,
            "grid_auto_columns": null,
            "grid_auto_flow": null,
            "grid_auto_rows": null,
            "grid_column": null,
            "grid_gap": null,
            "grid_row": null,
            "grid_template_areas": null,
            "grid_template_columns": null,
            "grid_template_rows": null,
            "height": null,
            "justify_content": null,
            "justify_items": null,
            "left": null,
            "margin": null,
            "max_height": null,
            "max_width": null,
            "min_height": null,
            "min_width": null,
            "object_fit": null,
            "object_position": null,
            "order": null,
            "overflow": null,
            "overflow_x": null,
            "overflow_y": null,
            "padding": null,
            "right": null,
            "top": null,
            "visibility": null,
            "width": null
          }
        },
        "8bfb33ddd7484771a39ba703fadcfa2d": {
          "model_module": "@jupyter-widgets/controls",
          "model_name": "DescriptionStyleModel",
          "model_module_version": "1.5.0",
          "state": {
            "_model_module": "@jupyter-widgets/controls",
            "_model_module_version": "1.5.0",
            "_model_name": "DescriptionStyleModel",
            "_view_count": null,
            "_view_module": "@jupyter-widgets/base",
            "_view_module_version": "1.2.0",
            "_view_name": "StyleView",
            "description_width": ""
          }
        }
      }
    }
  },
  "cells": [
    {
      "cell_type": "markdown",
      "metadata": {
        "id": "view-in-github",
        "colab_type": "text"
      },
      "source": [
        "<a href=\"https://colab.research.google.com/github/eric-sun92/computer_vision_MNIST/blob/main/03_pytorch_computer_vision_exercises.ipynb\" target=\"_parent\"><img src=\"https://colab.research.google.com/assets/colab-badge.svg\" alt=\"Open In Colab\"/></a>"
      ]
    },
    {
      "cell_type": "markdown",
      "source": [
        "# 03. PyTorch Computer Vision Exercises\n",
        "\n",
        "The following is a collection of exercises based on computer vision fundamentals in PyTorch.\n",
        "\n",
        "They're a bunch of fun.\n",
        "\n",
        "You're going to get to write plenty of code!\n",
        "\n",
        "## Resources\n",
        "\n",
        "1. These exercises are based on [notebook 03 of the Learn PyTorch for Deep Learning course](https://www.learnpytorch.io/03_pytorch_computer_vision/). \n",
        "2. See a live [walkthrough of the solutions (errors and all) on YouTube](https://youtu.be/_PibmqpEyhA). \n",
        "  * **Note:** Going through these exercises took me just over 3 hours of solid coding, so you should expect around the same.\n",
        "3. See [other solutions on the course GitHub](https://github.com/mrdbourke/pytorch-deep-learning/tree/main/extras/solutions)."
      ],
      "metadata": {
        "id": "Vex99np2wFVt"
      }
    },
    {
      "cell_type": "code",
      "source": [
        "# Check for GPU\n",
        "!nvidia-smi"
      ],
      "metadata": {
        "colab": {
          "base_uri": "https://localhost:8080/"
        },
        "id": "GaeYzOTLwWh2",
        "outputId": "f8556294-a0dd-4a3d-bcd8-1654ef0b7855"
      },
      "execution_count": 65,
      "outputs": [
        {
          "output_type": "stream",
          "name": "stdout",
          "text": [
            "/bin/bash: nvidia-smi: command not found\n"
          ]
        }
      ]
    },
    {
      "cell_type": "code",
      "source": [
        "# Import torch\n",
        "import torch\n",
        "\n",
        "# Exercises require PyTorch > 1.10.0\n",
        "print(torch.__version__)\n",
        "\n",
        "# TODO: Setup device agnostic code\n",
        "device = \"cuda\" if torch.cuda.is_available() else \"cpu\"\n",
        "device"
      ],
      "metadata": {
        "colab": {
          "base_uri": "https://localhost:8080/",
          "height": 53
        },
        "id": "DNwZLMbCzJLk",
        "outputId": "aa5c4f89-c4f4-4779-df47-db458911d169"
      },
      "execution_count": 66,
      "outputs": [
        {
          "output_type": "stream",
          "name": "stdout",
          "text": [
            "2.0.1+cu118\n"
          ]
        },
        {
          "output_type": "execute_result",
          "data": {
            "text/plain": [
              "'cpu'"
            ],
            "application/vnd.google.colaboratory.intrinsic+json": {
              "type": "string"
            }
          },
          "metadata": {},
          "execution_count": 66
        }
      ]
    },
    {
      "cell_type": "markdown",
      "source": [
        "## 1. What are 3 areas in industry where computer vision is currently being used?"
      ],
      "metadata": {
        "id": "FSFX7tc1w-en"
      }
    },
    {
      "cell_type": "markdown",
      "source": [
        "image classification, object detection, facial recognition"
      ],
      "metadata": {
        "id": "VyWRkvWGbCXj"
      }
    },
    {
      "cell_type": "markdown",
      "source": [
        "## 4. Spend 20-minutes reading and clicking through the [CNN Explainer website](https://poloclub.github.io/cnn-explainer/).\n",
        "\n",
        "* Upload your own example image using the \"upload\" button on the website and see what happens in each layer of a CNN as your image passes through it."
      ],
      "metadata": {
        "id": "DKdEEFEqxM-8"
      }
    },
    {
      "cell_type": "markdown",
      "source": [
        "## 5. Load the [`torchvision.datasets.MNIST()`](https://pytorch.org/vision/stable/generated/torchvision.datasets.MNIST.html#torchvision.datasets.MNIST) train and test datasets."
      ],
      "metadata": {
        "id": "lvf-3pODxXYI"
      }
    },
    {
      "cell_type": "code",
      "source": [
        "from torchvision import datasets \n",
        "from torchvision import transforms\n",
        "\n",
        "train_data = datasets.MNIST(\n",
        "    root=\"data\",\n",
        "    train=True,\n",
        "    download=True,\n",
        "    transform=transforms.ToTensor(),\n",
        ")\n",
        "test_data = datasets.MNIST(\n",
        "    root=\"data\",\n",
        "    train=False,\n",
        "    download=True,\n",
        "    transform=transforms.ToTensor(),\n",
        ")"
      ],
      "metadata": {
        "id": "SHjeuN81bHza"
      },
      "execution_count": 68,
      "outputs": []
    },
    {
      "cell_type": "markdown",
      "source": [
        "## 6. Visualize at least 5 different samples of the MNIST training dataset."
      ],
      "metadata": {
        "id": "qxZW-uAbxe_F"
      }
    },
    {
      "cell_type": "code",
      "source": [
        "img, label = train_data[0]\n",
        "img.shape, label, len(train_data)\n"
      ],
      "metadata": {
        "id": "QVFsYi1PbItE",
        "colab": {
          "base_uri": "https://localhost:8080/"
        },
        "outputId": "c17e4fe1-97a1-4198-ee4d-62d0e1b4ecef"
      },
      "execution_count": 69,
      "outputs": [
        {
          "output_type": "execute_result",
          "data": {
            "text/plain": [
              "(torch.Size([1, 28, 28]), 5, 60000)"
            ]
          },
          "metadata": {},
          "execution_count": 69
        }
      ]
    },
    {
      "cell_type": "code",
      "source": [
        "import matplotlib.pyplot as plt\n"
      ],
      "metadata": {
        "id": "aqyRS8PLGlNA"
      },
      "execution_count": 70,
      "outputs": []
    },
    {
      "cell_type": "code",
      "source": [
        "plt.imshow(img.squeeze(), cmap=\"gray\")\n",
        "plt.title(label)\n",
        "plt.axis(False)"
      ],
      "metadata": {
        "colab": {
          "base_uri": "https://localhost:8080/",
          "height": 446
        },
        "id": "mgM5aRfzG1SL",
        "outputId": "f696ae75-be84-4fcb-c9fe-2f1e8f6845a5"
      },
      "execution_count": 71,
      "outputs": [
        {
          "output_type": "execute_result",
          "data": {
            "text/plain": [
              "(-0.5, 27.5, 27.5, -0.5)"
            ]
          },
          "metadata": {},
          "execution_count": 71
        },
        {
          "output_type": "display_data",
          "data": {
            "text/plain": [
              "<Figure size 640x480 with 1 Axes>"
            ],
            "image/png": "[encoded data removed]"
          },
          "metadata": {}
        }
      ]
    },
    {
      "cell_type": "code",
      "source": [
        "class_names = train_data.classes\n",
        "class_names"
      ],
      "metadata": {
        "colab": {
          "base_uri": "https://localhost:8080/"
        },
        "id": "TNm0wPqSFZIu",
        "outputId": "65e7ad65-5a29-42b7-b51f-0b7cb0dae6fc"
      },
      "execution_count": 72,
      "outputs": [
        {
          "output_type": "execute_result",
          "data": {
            "text/plain": [
              "['0 - zero',\n",
              " '1 - one',\n",
              " '2 - two',\n",
              " '3 - three',\n",
              " '4 - four',\n",
              " '5 - five',\n",
              " '6 - six',\n",
              " '7 - seven',\n",
              " '8 - eight',\n",
              " '9 - nine']"
            ]
          },
          "metadata": {},
          "execution_count": 72
        }
      ]
    },
    {
      "cell_type": "code",
      "source": [
        "randIdx = torch.randint(0, len(train_data) - 1, size=[6])\n",
        "\n",
        "fig = plt.figure(figsize=(10, 5))\n",
        "rows = 2\n",
        "cols = 3\n",
        "\n",
        "for i, idx in enumerate(randIdx):\n",
        "  img, label = train_data[idx]\n",
        "  fig.add_subplot(rows, cols, i+1)\n",
        "  plt.imshow(img.squeeze(), cmap=\"gray\")\n",
        "  plt.title(label)\n",
        "  plt.axis(False)\n",
        "\n",
        "\n"
      ],
      "metadata": {
        "colab": {
          "base_uri": "https://localhost:8080/",
          "height": 444
        },
        "id": "VgAbMZgbFvuK",
        "outputId": "c1d48cd4-a26f-40cd-e91e-cf328435fc60"
      },
      "execution_count": 73,
      "outputs": [
        {
          "output_type": "display_data",
          "data": {
            "text/plain": [
              "<Figure size 1000x500 with 6 Axes>"
            ],
            "image/png": "[encoded data removed]"
          },
          "metadata": {}
        }
      ]
    },
    {
      "cell_type": "markdown",
      "source": [
        "## 7. Turn the MNIST train and test datasets into dataloaders using `torch.utils.data.DataLoader`, set the `batch_size=32`."
      ],
      "metadata": {
        "id": "JAPDzW0wxhi3"
      }
    },
    {
      "cell_type": "code",
      "source": [
        "from torch.utils.data import DataLoader\n"
      ],
      "metadata": {
        "id": "ALA6MPcFbJXQ"
      },
      "execution_count": 74,
      "outputs": []
    },
    {
      "cell_type": "code",
      "source": [
        "BATCH_SIZE = 32\n",
        "\n",
        "train_dataloader = DataLoader(batch_size=BATCH_SIZE,\n",
        "                              shuffle=True,\n",
        "                              dataset=train_data)\n",
        "\n",
        "test_dataloader = DataLoader(batch_size=BATCH_SIZE,\n",
        "                              shuffle=False,\n",
        "                              dataset=test_data)\n"
      ],
      "metadata": {
        "id": "l0T5eNkiIYX-"
      },
      "execution_count": 75,
      "outputs": []
    },
    {
      "cell_type": "code",
      "source": [
        "img, label = next(iter(train_dataloader))\n",
        "img.shape, label, len(train_dataloader)"
      ],
      "metadata": {
        "colab": {
          "base_uri": "https://localhost:8080/"
        },
        "id": "uXdTXkc2Jktm",
        "outputId": "1dfd2da5-0d80-4e0f-a08a-4c5d9cfb9a64"
      },
      "execution_count": 76,
      "outputs": [
        {
          "output_type": "execute_result",
          "data": {
            "text/plain": [
              "(torch.Size([32, 1, 28, 28]),\n",
              " tensor([1, 0, 1, 5, 5, 2, 1, 9, 7, 5, 5, 9, 5, 2, 9, 6, 8, 7, 1, 1, 1, 2, 5, 6,\n",
              "         1, 0, 7, 2, 4, 6, 7, 9]),\n",
              " 1875)"
            ]
          },
          "metadata": {},
          "execution_count": 76
        }
      ]
    },
    {
      "cell_type": "markdown",
      "source": [
        "## 8. Recreate `model_2` used in notebook 03 (the same model from the [CNN Explainer website](https://poloclub.github.io/cnn-explainer/), also known as TinyVGG) capable of fitting on the MNIST dataset."
      ],
      "metadata": {
        "id": "bCCVfXk5xjYS"
      }
    },
    {
      "cell_type": "code",
      "source": [
        "from torch import nn"
      ],
      "metadata": {
        "id": "5IKNF22XbKYS"
      },
      "execution_count": 77,
      "outputs": []
    },
    {
      "cell_type": "code",
      "source": [
        "class MNISTModel(nn.Module):\n",
        "  def __init__(self, in_shape, hidden_units, out_shape):\n",
        "    super().__init__()\n",
        "    self.conv_block1 = nn.Sequential(\n",
        "        nn.Conv2d(in_channels=in_shape,\n",
        "                  out_channels=hidden_units,\n",
        "                  kernel_size=3,\n",
        "                  stride=1,\n",
        "                  padding=1),\n",
        "        nn.ReLU(),\n",
        "        nn.Conv2d(in_channels=hidden_units,\n",
        "                  out_channels=hidden_units,\n",
        "                  kernel_size=3,\n",
        "                  stride=1,\n",
        "                  padding=1),\n",
        "        nn.ReLU(),\n",
        "        nn.MaxPool2d(kernel_size=2)\n",
        "    )\n",
        "    self.conv_block2 = nn.Sequential(\n",
        "        nn.Conv2d(in_channels=hidden_units,\n",
        "                  out_channels=hidden_units,\n",
        "                  kernel_size=3,\n",
        "                  stride=1,\n",
        "                  padding=1),\n",
        "        nn.ReLU(),\n",
        "        nn.Conv2d(in_channels=hidden_units,\n",
        "                  out_channels=hidden_units,\n",
        "                  kernel_size=3,\n",
        "                  stride=1,\n",
        "                  padding=1),\n",
        "        nn.ReLU(),\n",
        "        nn.MaxPool2d(kernel_size=2)\n",
        "    )\n",
        "    self.classification_block = nn.Sequential(\n",
        "        nn.Flatten(),\n",
        "        nn.Linear(in_features=7*7*hidden_units,\n",
        "                  out_features=out_shape)\n",
        "    )\n",
        "\n",
        "  def forward(self, x):\n",
        "    x = self.conv_block1(x)\n",
        "    x = self.conv_block2(x)\n",
        "    x = self.classification_block(x)\n",
        "    return x"
      ],
      "metadata": {
        "id": "b-E0X3_NKA8S"
      },
      "execution_count": 78,
      "outputs": []
    },
    {
      "cell_type": "code",
      "source": [
        "torch.manual_seed(42)\n",
        "\n",
        "model = MNISTModel(in_shape=1, hidden_units=10, out_shape=10).to(device)"
      ],
      "metadata": {
        "id": "dOjsBxoYMRGG"
      },
      "execution_count": 79,
      "outputs": []
    },
    {
      "cell_type": "markdown",
      "source": [
        "## 9. Train the model you built in exercise 8. for 5 epochs on CPU and GPU and see how long it takes on each."
      ],
      "metadata": {
        "id": "sf_3zUr7xlhy"
      }
    },
    {
      "cell_type": "code",
      "source": [
        "pip install torchmetrics"
      ],
      "metadata": {
        "colab": {
          "base_uri": "https://localhost:8080/"
        },
        "id": "NaDcpKc1Natk",
        "outputId": "c72e3e77-0768-4baf-c3a7-861f155d7540"
      },
      "execution_count": 80,
      "outputs": [
        {
          "output_type": "stream",
          "name": "stdout",
          "text": [
            "Looking in indexes: https://pypi.org/simple, https://us-python.pkg.dev/colab-wheels/public/simple/\n",
            "Requirement already satisfied: torchmetrics in /usr/local/lib/python3.10/dist-packages (0.11.4)\n",
            "Requirement already satisfied: numpy>=1.17.2 in /usr/local/lib/python3.10/dist-packages (from torchmetrics) (1.22.4)\n",
            "Requirement already satisfied: torch>=1.8.1 in /usr/local/lib/python3.10/dist-packages (from torchmetrics) (2.0.1+cu118)\n",
            "Requirement already satisfied: packaging in /usr/local/lib/python3.10/dist-packages (from torchmetrics) (23.1)\n",
            "Requirement already satisfied: filelock in /usr/local/lib/python3.10/dist-packages (from torch>=1.8.1->torchmetrics) (3.12.0)\n",
            "Requirement already satisfied: typing-extensions in /usr/local/lib/python3.10/dist-packages (from torch>=1.8.1->torchmetrics) (4.5.0)\n",
            "Requirement already satisfied: sympy in /usr/local/lib/python3.10/dist-packages (from torch>=1.8.1->torchmetrics) (1.11.1)\n",
            "Requirement already satisfied: networkx in /usr/local/lib/python3.10/dist-packages (from torch>=1.8.1->torchmetrics) (3.1)\n",
            "Requirement already satisfied: jinja2 in /usr/local/lib/python3.10/dist-packages (from torch>=1.8.1->torchmetrics) (3.1.2)\n",
            "Requirement already satisfied: triton==2.0.0 in /usr/local/lib/python3.10/dist-packages (from torch>=1.8.1->torchmetrics) (2.0.0)\n",
            "Requirement already satisfied: cmake in /usr/local/lib/python3.10/dist-packages (from triton==2.0.0->torch>=1.8.1->torchmetrics) (3.25.2)\n",
            "Requirement already satisfied: lit in /usr/local/lib/python3.10/dist-packages (from triton==2.0.0->torch>=1.8.1->torchmetrics) (16.0.5)\n",
            "Requirement already satisfied: MarkupSafe>=2.0 in /usr/local/lib/python3.10/dist-packages (from jinja2->torch>=1.8.1->torchmetrics) (2.1.2)\n",
            "Requirement already satisfied: mpmath>=0.19 in /usr/local/lib/python3.10/dist-packages (from sympy->torch>=1.8.1->torchmetrics) (1.3.0)\n"
          ]
        }
      ]
    },
    {
      "cell_type": "code",
      "source": [
        "from torchmetrics import Accuracy\n",
        "\n",
        "loss_fn = nn.CrossEntropyLoss()\n",
        "optimizer = torch.optim.SGD(params=model.parameters(),\n",
        "                            lr=0.1)\n",
        "acc_fn = Accuracy(task=\"multiclass\", num_classes=10)\n"
      ],
      "metadata": {
        "id": "fQ6yUCAmMvth"
      },
      "execution_count": 81,
      "outputs": []
    },
    {
      "cell_type": "code",
      "source": [
        "# Try a dummy forward pass to see what shapes our data is\n",
        "dummy_x = torch.rand(size=(1, 28, 28)).unsqueeze(dim=0).to(device)\n",
        "# dummy_x.shape\n",
        "model(dummy_x)"
      ],
      "metadata": {
        "colab": {
          "base_uri": "https://localhost:8080/"
        },
        "id": "kExuJbigNvxr",
        "outputId": "46adc1f8-8aee-483e-b0bd-2237aad21e3c"
      },
      "execution_count": 82,
      "outputs": [
        {
          "output_type": "execute_result",
          "data": {
            "text/plain": [
              "tensor([[ 0.0372, -0.0748,  0.0573, -0.0396, -0.0098,  0.0194, -0.0003, -0.0114,\n",
              "          0.0206,  0.0003]], grad_fn=<AddmmBackward0>)"
            ]
          },
          "metadata": {},
          "execution_count": 82
        }
      ]
    },
    {
      "cell_type": "code",
      "source": [
        "img, label = next(iter(train_dataloader))\n",
        "print(img.shape)\n",
        "logits = model(img.to(device))\n",
        "logits.shape\n",
        "pred = torch.softmax(logits, dim=1)\n",
        "pred.shape"
      ],
      "metadata": {
        "colab": {
          "base_uri": "https://localhost:8080/"
        },
        "id": "PI1PiwxiTbYj",
        "outputId": "3e4eb0c3-2341-4bc3-abc0-eb5e800a3ece"
      },
      "execution_count": 83,
      "outputs": [
        {
          "output_type": "stream",
          "name": "stdout",
          "text": [
            "torch.Size([32, 1, 28, 28])\n"
          ]
        },
        {
          "output_type": "execute_result",
          "data": {
            "text/plain": [
              "torch.Size([32, 10])"
            ]
          },
          "metadata": {},
          "execution_count": 83
        }
      ]
    },
    {
      "cell_type": "code",
      "source": [
        "from tqdm.auto import tqdm\n",
        "from timeit import default_timer as timer"
      ],
      "metadata": {
        "id": "azpQV_1aFGae"
      },
      "execution_count": 84,
      "outputs": []
    },
    {
      "cell_type": "code",
      "source": [
        "img, label = next(iter(train_dataloader))\n",
        "img.shape, label\n",
        "\n",
        "y = model(img.to(device))\n",
        "y_pred = torch.softmax(y, dim=0).argmax(dim=1)\n",
        "y_pred.shape\n"
      ],
      "metadata": {
        "colab": {
          "base_uri": "https://localhost:8080/"
        },
        "id": "t_S_PSLOKgRk",
        "outputId": "4e7fde96-04a2-4e28-b421-b4272f756a67"
      },
      "execution_count": 85,
      "outputs": [
        {
          "output_type": "execute_result",
          "data": {
            "text/plain": [
              "torch.Size([32])"
            ]
          },
          "metadata": {},
          "execution_count": 85
        }
      ]
    },
    {
      "cell_type": "code",
      "source": [
        "def train_loop(model, data, loss_fn, acc_fn, optimizer, device):\n",
        "  model.train()\n",
        "  train_loss, acc = 0, 0\n",
        "  for batch, (X, y) in enumerate(data):\n",
        "    X = X.to(device)\n",
        "    y = y.to(device)\n",
        "\n",
        "    y_logits = model(X)\n",
        "\n",
        "    y_preds = torch.softmax(y_logits, dim=0).argmax(dim=1)\n",
        "\n",
        "    loss = loss_fn(y_logits, y)\n",
        "    train_loss += loss\n",
        "    acc += acc_fn(y_preds.cpu(), y.cpu())\n",
        "\n",
        "    optimizer.zero_grad()\n",
        "    loss.backward()\n",
        "    optimizer.step()\n",
        "\n",
        "    if batch % 400 == 0:\n",
        "      print(f\"Looked at {batch * len(X)} out of {len(data.dataset)} samples\")\n",
        "\n",
        "  train_loss /= len(data)\n",
        "  acc /= len(data)\n",
        "\n",
        "  print(f\"loss: {train_loss:.5f}, acc: {acc:.2f}\")\n",
        "\n",
        "def test_loop(model, data, loss_fn, acc_fn, device):\n",
        "  model.eval()\n",
        "  test_loss, test_acc = 0, 0\n",
        "  with torch.inference_mode():\n",
        "    for (X, y) in data:\n",
        "\n",
        "      X = X.to(device)\n",
        "      y = y.to(device)\n",
        "\n",
        "      y_test_logits = model(X)\n",
        "      y_test_preds = torch.softmax(y_test_logits, dim=0).argmax(dim=1)\n",
        "\n",
        "      test_loss += loss_fn(y_test_logits, y)\n",
        "      test_acc += acc_fn(y_test_preds.cpu(), y.cpu())\n",
        "    \n",
        "    test_loss /= len(data)\n",
        "    test_acc /= len(data)\n",
        "\n",
        "    print(f\"testLoss: {test_loss:.5f}, testAcc: {test_acc:.2f}\")\n",
        "\n",
        "epochs = 5\n",
        "start_time = timer()\n",
        "\n",
        "for epoch in tqdm(range(epochs)):\n",
        "  train_loop(model, train_dataloader, loss_fn, acc_fn, optimizer=optimizer, device=device)\n",
        "  test_loop(model, test_dataloader, loss_fn, acc_fn, device)\n",
        "\n",
        "end_time = timer()\n",
        "\n",
        "total_time = end_time - start_time\n",
        "print(f\"total runtime: {total_time} seconds\")"
      ],
      "metadata": {
        "id": "jSo6vVWFbNLD",
        "colab": {
          "base_uri": "https://localhost:8080/",
          "height": 692,
          "referenced_widgets": [
            "4807f64683f148b390959a89b92f4f61",
            "b32c6c1c57364b19a05099ccf5fc704e",
            "a3f45eaf854441828db4c7abe046f1ab",
            "d844b52805b842a58291e0436703641e",
            "ca0319ed3214440a8bd09cabea324034",
            "a36ec4c85c954581bb2de2b131ecc716",
            "72c9a9ac0ff04425bcbd420cb451125b",
            "671f41794220430591427c55b19ed435",
            "88f773c9c4db4f4a9fd5cc61dfe7f0ce",
            "ec6abced51344531851fd761a9cf4914",
            "3c8dfb8bb5944619a7a438e044e9cf93"
          ]
        },
        "outputId": "f6f3b504-3dc3-41b5-bb3e-fd4893169d80"
      },
      "execution_count": 86,
      "outputs": [
        {
          "output_type": "display_data",
          "data": {
            "text/plain": [
              "  0%|          | 0/5 [00:00<?, ?it/s]"
            ],
            "application/vnd.jupyter.widget-view+json": {
              "version_major": 2,
              "version_minor": 0,
              "model_id": "4807f64683f148b390959a89b92f4f61"
            }
          },
          "metadata": {}
        },
        {
          "output_type": "stream",
          "name": "stdout",
          "text": [
            "Looked at 0 out of 60000 samples\n",
            "Looked at 12800 out of 60000 samples\n",
            "Looked at 25600 out of 60000 samples\n",
            "Looked at 38400 out of 60000 samples\n",
            "Looked at 51200 out of 60000 samples\n",
            "loss: 0.27225, acc: 0.81\n",
            "testLoss: 0.06792, testAcc: 0.91\n",
            "Looked at 0 out of 60000 samples\n",
            "Looked at 12800 out of 60000 samples\n",
            "Looked at 25600 out of 60000 samples\n",
            "Looked at 38400 out of 60000 samples\n",
            "Looked at 51200 out of 60000 samples\n",
            "loss: 0.07094, acc: 0.88\n",
            "testLoss: 0.04614, testAcc: 0.92\n",
            "Looked at 0 out of 60000 samples\n",
            "Looked at 12800 out of 60000 samples\n",
            "Looked at 25600 out of 60000 samples\n",
            "Looked at 38400 out of 60000 samples\n",
            "Looked at 51200 out of 60000 samples\n",
            "loss: 0.05474, acc: 0.88\n",
            "testLoss: 0.04239, testAcc: 0.93\n",
            "Looked at 0 out of 60000 samples\n",
            "Looked at 12800 out of 60000 samples\n",
            "Looked at 25600 out of 60000 samples\n",
            "Looked at 38400 out of 60000 samples\n",
            "Looked at 51200 out of 60000 samples\n",
            "loss: 0.04636, acc: 0.89\n",
            "testLoss: 0.04535, testAcc: 0.92\n",
            "Looked at 0 out of 60000 samples\n",
            "Looked at 12800 out of 60000 samples\n",
            "Looked at 25600 out of 60000 samples\n",
            "Looked at 38400 out of 60000 samples\n",
            "Looked at 51200 out of 60000 samples\n",
            "loss: 0.04070, acc: 0.89\n",
            "testLoss: 0.03823, testAcc: 0.92\n",
            "total runtime: 404.4197395880001 seconds\n"
          ]
        }
      ]
    },
    {
      "cell_type": "markdown",
      "source": [
        "## 10. Make predictions using your trained model and visualize at least 5 of them comparing the prediciton to the target label."
      ],
      "metadata": {
        "id": "w1CsHhPpxp1w"
      }
    },
    {
      "cell_type": "code",
      "source": [
        "# torch.manual_seed(42)\n",
        "randIdx = torch.randint(0, len(test_data) - 1, size=[9])\n",
        "\n",
        "fig = plt.figure(figsize=(12, 12))\n",
        "rows = 3\n",
        "cols = 3\n",
        "model.eval()\n",
        "with torch.inference_mode():\n",
        "  for i, idx in enumerate(randIdx):\n",
        "    image, label = test_data[idx]\n",
        "    logit = model(image.unsqueeze(dim=0).to(device))\n",
        "    pred = torch.softmax(logit, dim=1).argmax(dim=1)\n",
        "    fig.add_subplot(rows, cols, i+1)\n",
        "    plt.imshow(image.squeeze(), cmap=\"gray\")\n",
        "    plt.title(f\"true: {label}, pred: {pred[0].item()}\")\n",
        "    plt.axis(False)\n"
      ],
      "metadata": {
        "id": "_YGgZvSobNxu",
        "colab": {
          "base_uri": "https://localhost:8080/",
          "height": 983
        },
        "outputId": "fad28ae6-1824-43d2-b764-aca04c0d56cb"
      },
      "execution_count": 87,
      "outputs": [
        {
          "output_type": "display_data",
          "data": {
            "text/plain": [
              "<Figure size 1200x1200 with 9 Axes>"
            ],
            "image/png": "[encoded data removed]"
          },
          "metadata": {}
        }
      ]
    },
    {
      "cell_type": "code",
      "source": [
        "image, label = test_data[43]\n",
        "label\n",
        "print(image.unsqueeze(dim=0).shape)\n",
        "logit = model(image.unsqueeze(dim=0).to(device))\n",
        "print(logit.shape)\n",
        "logit\n",
        "pred = torch.softmax(logit, dim=1)\n",
        "pred\n",
        "# pred[0].item()"
      ],
      "metadata": {
        "colab": {
          "base_uri": "https://localhost:8080/"
        },
        "id": "zm74iOsaZy2J",
        "outputId": "a94906ca-b48d-44c5-941a-a8d0e3981057"
      },
      "execution_count": 88,
      "outputs": [
        {
          "output_type": "stream",
          "name": "stdout",
          "text": [
            "torch.Size([1, 1, 28, 28])\n",
            "torch.Size([1, 10])\n"
          ]
        },
        {
          "output_type": "execute_result",
          "data": {
            "text/plain": [
              "tensor([[2.7660e-10, 6.1528e-05, 9.9993e-01, 2.3333e-06, 4.6821e-06, 1.5609e-10,\n",
              "         2.8059e-07, 2.1883e-07, 1.9545e-08, 3.3909e-12]],\n",
              "       grad_fn=<SoftmaxBackward0>)"
            ]
          },
          "metadata": {},
          "execution_count": 88
        }
      ]
    },
    {
      "cell_type": "code",
      "source": [
        "from pathlib import Path\n",
        "MODEL_PATH = Path(\"models\")\n",
        "MODEL_PATH.mkdir(parents=True,\n",
        "                 exist_ok=True)\n",
        "\n",
        "MODEL_NAME = \"MNNIST_Model.pth\"\n",
        "\n",
        "MODEL_SAVE_PATH = MODEL_PATH / MODEL_NAME\n",
        "\n",
        "torch.save(obj=model.state_dict(),\n",
        "           f=MODEL_SAVE_PATH)\n",
        "\n",
        "print(f\"saved model to {MODEL_SAVE_PATH}\")\n"
      ],
      "metadata": {
        "colab": {
          "base_uri": "https://localhost:8080/"
        },
        "id": "pW7b28ze72sN",
        "outputId": "22ec85c3-4ee4-4eb3-f9a7-2cd098a44579"
      },
      "execution_count": 89,
      "outputs": [
        {
          "output_type": "stream",
          "name": "stdout",
          "text": [
            "saved model to models/MNNIST_Model.pth\n"
          ]
        }
      ]
    },
    {
      "cell_type": "code",
      "source": [
        "# load model\n",
        "\n",
        "loadedModel = MNISTModel(1, 10, 10)\n",
        "\n",
        "loadedModel.load_state_dict(torch.load(MODEL_SAVE_PATH))\n",
        "\n",
        "loadedModel = loadedModel.to(device)\n",
        "loadedModel"
      ],
      "metadata": {
        "colab": {
          "base_uri": "https://localhost:8080/"
        },
        "id": "tBKktKTg8mt5",
        "outputId": "aee835b4-d469-4e1f-bfc7-5ebcb9e7f348"
      },
      "execution_count": 90,
      "outputs": [
        {
          "output_type": "execute_result",
          "data": {
            "text/plain": [
              "MNISTModel(\n",
              "  (conv_block1): Sequential(\n",
              "    (0): Conv2d(1, 10, kernel_size=(3, 3), stride=(1, 1), padding=(1, 1))\n",
              "    (1): ReLU()\n",
              "    (2): Conv2d(10, 10, kernel_size=(3, 3), stride=(1, 1), padding=(1, 1))\n",
              "    (3): ReLU()\n",
              "    (4): MaxPool2d(kernel_size=2, stride=2, padding=0, dilation=1, ceil_mode=False)\n",
              "  )\n",
              "  (conv_block2): Sequential(\n",
              "    (0): Conv2d(10, 10, kernel_size=(3, 3), stride=(1, 1), padding=(1, 1))\n",
              "    (1): ReLU()\n",
              "    (2): Conv2d(10, 10, kernel_size=(3, 3), stride=(1, 1), padding=(1, 1))\n",
              "    (3): ReLU()\n",
              "    (4): MaxPool2d(kernel_size=2, stride=2, padding=0, dilation=1, ceil_mode=False)\n",
              "  )\n",
              "  (classification_block): Sequential(\n",
              "    (0): Flatten(start_dim=1, end_dim=-1)\n",
              "    (1): Linear(in_features=490, out_features=10, bias=True)\n",
              "  )\n",
              ")"
            ]
          },
          "metadata": {},
          "execution_count": 90
        }
      ]
    },
    {
      "cell_type": "markdown",
      "source": [
        "## 11. Plot a confusion matrix comparing your model's predictions to the truth labels."
      ],
      "metadata": {
        "id": "qQwzqlBWxrpG"
      }
    },
    {
      "cell_type": "code",
      "source": [
        "pip install mlxtend"
      ],
      "metadata": {
        "colab": {
          "base_uri": "https://localhost:8080/"
        },
        "id": "lJzi1XFQ-t_P",
        "outputId": "e8ed03ab-b315-4c74-b284-1cb44101780e"
      },
      "execution_count": 91,
      "outputs": [
        {
          "output_type": "stream",
          "name": "stdout",
          "text": [
            "Looking in indexes: https://pypi.org/simple, https://us-python.pkg.dev/colab-wheels/public/simple/\n",
            "Requirement already satisfied: mlxtend in /usr/local/lib/python3.10/dist-packages (0.14.0)\n",
            "Requirement already satisfied: scipy>=0.17 in /usr/local/lib/python3.10/dist-packages (from mlxtend) (1.10.1)\n",
            "Requirement already satisfied: numpy>=1.10.4 in /usr/local/lib/python3.10/dist-packages (from mlxtend) (1.22.4)\n",
            "Requirement already satisfied: pandas>=0.17.1 in /usr/local/lib/python3.10/dist-packages (from mlxtend) (1.5.3)\n",
            "Requirement already satisfied: scikit-learn>=0.18 in /usr/local/lib/python3.10/dist-packages (from mlxtend) (1.2.2)\n",
            "Requirement already satisfied: matplotlib>=1.5.1 in /usr/local/lib/python3.10/dist-packages (from mlxtend) (3.7.1)\n",
            "Requirement already satisfied: setuptools in /usr/local/lib/python3.10/dist-packages (from mlxtend) (67.7.2)\n",
            "Requirement already satisfied: contourpy>=1.0.1 in /usr/local/lib/python3.10/dist-packages (from matplotlib>=1.5.1->mlxtend) (1.0.7)\n",
            "Requirement already satisfied: cycler>=0.10 in /usr/local/lib/python3.10/dist-packages (from matplotlib>=1.5.1->mlxtend) (0.11.0)\n",
            "Requirement already satisfied: fonttools>=4.22.0 in /usr/local/lib/python3.10/dist-packages (from matplotlib>=1.5.1->mlxtend) (4.39.3)\n",
            "Requirement already satisfied: kiwisolver>=1.0.1 in /usr/local/lib/python3.10/dist-packages (from matplotlib>=1.5.1->mlxtend) (1.4.4)\n",
            "Requirement already satisfied: packaging>=20.0 in /usr/local/lib/python3.10/dist-packages (from matplotlib>=1.5.1->mlxtend) (23.1)\n",
            "Requirement already satisfied: pillow>=6.2.0 in /usr/local/lib/python3.10/dist-packages (from matplotlib>=1.5.1->mlxtend) (8.4.0)\n",
            "Requirement already satisfied: pyparsing>=2.3.1 in /usr/local/lib/python3.10/dist-packages (from matplotlib>=1.5.1->mlxtend) (3.0.9)\n",
            "Requirement already satisfied: python-dateutil>=2.7 in /usr/local/lib/python3.10/dist-packages (from matplotlib>=1.5.1->mlxtend) (2.8.2)\n",
            "Requirement already satisfied: pytz>=2020.1 in /usr/local/lib/python3.10/dist-packages (from pandas>=0.17.1->mlxtend) (2022.7.1)\n",
            "Requirement already satisfied: joblib>=1.1.1 in /usr/local/lib/python3.10/dist-packages (from scikit-learn>=0.18->mlxtend) (1.2.0)\n",
            "Requirement already satisfied: threadpoolctl>=2.0.0 in /usr/local/lib/python3.10/dist-packages (from scikit-learn>=0.18->mlxtend) (3.1.0)\n",
            "Requirement already satisfied: six>=1.5 in /usr/local/lib/python3.10/dist-packages (from python-dateutil>=2.7->matplotlib>=1.5.1->mlxtend) (1.16.0)\n"
          ]
        }
      ]
    },
    {
      "cell_type": "code",
      "source": [
        "y_preds = []\n",
        "loadedModel.eval()\n",
        "with torch.inference_mode():\n",
        "  for sample, label in test_dataloader:\n",
        "    y_logit = loadedModel(sample)\n",
        "    y_pred = torch.softmax(y_logit.squeeze(), dim=0).argmax(dim=1)\n",
        "    y_preds.append(y_pred.cpu())\n",
        "\n",
        "y_preds_tensor = torch.cat(y_preds)\n",
        "y_preds_tensor.shape"
      ],
      "metadata": {
        "colab": {
          "base_uri": "https://localhost:8080/"
        },
        "id": "JDMwCnql_Lhp",
        "outputId": "a45bb307-0537-4329-a6af-c9c7efc5a99b"
      },
      "execution_count": 92,
      "outputs": [
        {
          "output_type": "execute_result",
          "data": {
            "text/plain": [
              "torch.Size([10000])"
            ]
          },
          "metadata": {},
          "execution_count": 92
        }
      ]
    },
    {
      "cell_type": "code",
      "source": [
        "img, label = next(iter(test_dataloader))\n",
        "img.shape"
      ],
      "metadata": {
        "colab": {
          "base_uri": "https://localhost:8080/"
        },
        "id": "17sMjm8cAXkh",
        "outputId": "5c1cb54c-8d9d-4ade-ca87-9b6c69f98d6d"
      },
      "execution_count": 93,
      "outputs": [
        {
          "output_type": "execute_result",
          "data": {
            "text/plain": [
              "torch.Size([32, 1, 28, 28])"
            ]
          },
          "metadata": {},
          "execution_count": 93
        }
      ]
    },
    {
      "cell_type": "code",
      "source": [
        "from torchmetrics import ConfusionMatrix\n",
        "from mlxtend.plotting import plot_confusion_matrix\n",
        "\n",
        "print(mlxtend.__version__)\n",
        "\n",
        "confmat = ConfusionMatrix(task=\"multiclass\",\n",
        "                          num_classes=10)\n",
        "\n",
        "confmat_tensor = confmat(preds=y_preds_tensor,\n",
        "                         target=test_data.targets)\n",
        "\n",
        "fig, ax = plot_confusion_matrix(\n",
        "    conf_mat=confmat_tensor.numpy(),\n",
        "    figsize=(10, 7),\n",
        "    \n",
        "    )"
      ],
      "metadata": {
        "id": "vSrXiT_AbQ6e",
        "colab": {
          "base_uri": "https://localhost:8080/",
          "height": 637
        },
        "outputId": "41f4707a-8a14-4a86-c331-4944001b57dd"
      },
      "execution_count": 94,
      "outputs": [
        {
          "output_type": "stream",
          "name": "stdout",
          "text": [
            "0.14.0\n"
          ]
        },
        {
          "output_type": "display_data",
          "data": {
            "text/plain": [
              "<Figure size 1000x700 with 1 Axes>"
            ],
            "image/png": "[encoded data removed]"
          },
          "metadata": {}
        }
      ]
    },
    {
      "cell_type": "markdown",
      "source": [
        "## 12. Create a random tensor of shape `[1, 3, 64, 64]` and pass it through a `nn.Conv2d()` layer with various hyperparameter settings (these can be any settings you choose), what do you notice if the `kernel_size` parameter goes up and down?"
      ],
      "metadata": {
        "id": "lj6bDhoWxt2y"
      }
    },
    {
      "cell_type": "code",
      "source": [
        "randTensor = torch.rand(1, 3, 64, 64)\n",
        "randTensor.shape\n",
        "\n",
        "conv_layer = nn.Conv2d(in_channels=3, \n",
        "                       out_channels=10,\n",
        "                       kernel_size=3,\n",
        "                       padding=1,\n",
        "                       stride=1)\n",
        "\n",
        "y = conv_layer(randTensor)\n",
        "y.shape"
      ],
      "metadata": {
        "id": "leCTsqtSbR5P",
        "colab": {
          "base_uri": "https://localhost:8080/"
        },
        "outputId": "d9e7a417-68a2-49ee-8dce-664e8b5842c0"
      },
      "execution_count": 95,
      "outputs": [
        {
          "output_type": "execute_result",
          "data": {
            "text/plain": [
              "torch.Size([1, 10, 64, 64])"
            ]
          },
          "metadata": {},
          "execution_count": 95
        }
      ]
    },
    {
      "cell_type": "markdown",
      "source": [
        "## 13. Use a model similar to the trained `model_2` from notebook 03 to make \n",
        "predictions on the test [`torchvision.datasets.FashionMNIST`](https://pytorch.org/vision/main/generated/torchvision.datasets.FashionMNIST.html) dataset. \n",
        "* Then plot some predictions where the model was wrong alongside what the label of the image should've been. \n",
        "* After visualing these predictions do you think it's more of a modelling error or a data error? \n",
        "* As in, could the model do better or are the labels of the data too close to each other (e.g. a \"Shirt\" label is too close to \"T-shirt/top\")?"
      ],
      "metadata": {
        "id": "VHS20cNTxwSi"
      }
    },
    {
      "cell_type": "code",
      "source": [
        "# 13. Use a model similar to the trained model_2 from notebook 03 to make predictions on the test torchvision.datasets.FashionMNIST dataset.\n",
        "# Then plot some predictions where the model was wrong alongside what the label of the image should've been.\n",
        "# After visualing these predictions do you think it's more of a modelling error or a data error?\n",
        "# As in, could the model do better or are the labels of the data too close to each other (e.g. a \"Shirt\" label is too close to \"T-shirt/top\")?\n"
      ],
      "metadata": {
        "id": "78a8LjtdbSZj"
      },
      "execution_count": 96,
      "outputs": []
    },
    {
      "cell_type": "code",
      "source": [
        "import torchvision\n",
        "\n",
        "fashion_train_dataset = datasets.FashionMNIST(\n",
        "    root=\"data\",\n",
        "    train=True,\n",
        "    download=True,\n",
        "    transform=torchvision.transforms.ToTensor(),\n",
        ")\n",
        "\n",
        "fashion_test_dataset = datasets.FashionMNIST(\n",
        "    train=True,\n",
        "    root=\"data\",\n",
        "    download=True,\n",
        "    transform=torchvision.transforms.ToTensor(),\n",
        ")\n",
        "\n",
        "fashion_train_dataloader = DataLoader(batch_size=BATCH_SIZE, \n",
        "                                      shuffle=True,\n",
        "                                      dataset=fashion_train_dataset)\n",
        "\n",
        "fashion_test_dataloader = DataLoader(batch_size=BATCH_SIZE, \n",
        "                                      shuffle=True,\n",
        "                                      dataset=fashion_test_dataset)\n",
        "\n",
        "fashion_model = MNISTModel(1, 10, 10).to(device)\n",
        "\n",
        "fashion_loss_fn = nn.CrossEntropyLoss()\n",
        "fashion_optimizer = torch.optim.SGD(fashion_model.parameters(), 0.1)\n",
        "\n",
        "for epoch in tqdm(range(4)):\n",
        "  train_loop(fashion_model, fashion_train_dataloader, fashion_loss_fn, acc_fn, fashion_optimizer, device)\n",
        "  test_loop(fashion_model, fashion_test_dataloader, fashion_loss_fn, acc_fn, device)\n",
        "\n"
      ],
      "metadata": {
        "colab": {
          "base_uri": "https://localhost:8080/",
          "height": 926,
          "referenced_widgets": [
            "7a6ef82970c14d7b8c90c10c5843aacc",
            "c054a5b6ca1440dd9394b4ce753e80f6",
            "efbed30ed61b4513b4da9b10c105c3f6",
            "b69265e5827a4de4a862bff8d2319690",
            "8c91dbc4161a434fb4d1d9b07f9f01ba",
            "5d8d3101b36c4d6b846ba7ad1c2ea846",
            "dad699736df1447d9ab5c87a4a7a1194",
            "10d6b5f9d8cb4aaa9b9bd04feb85d721",
            "25fb18f315574bdeb86fd86543b0ce23",
            "8dbd61fa242c421ca42afd133782d53c",
            "15cd570963394059ae9be2fa04a249dc"
          ]
        },
        "id": "0QY-XjVfDL3J",
        "outputId": "aeca6401-c571-43e6-fa4f-0d2977391817"
      },
      "execution_count": 101,
      "outputs": [
        {
          "output_type": "stream",
          "name": "stdout",
          "text": [
            "Downloading http://fashion-mnist.s3-website.eu-central-1.amazonaws.com/train-images-idx3-ubyte.gz\n",
            "Downloading http://fashion-mnist.s3-website.eu-central-1.amazonaws.com/train-images-idx3-ubyte.gz to data/FashionMNIST/raw/train-images-idx3-ubyte.gz\n"
          ]
        },
        {
          "output_type": "stream",
          "name": "stderr",
          "text": [
            "100%|██████████| 26421880/26421880 [00:14<00:00, 1781642.81it/s]\n"
          ]
        },
        {
          "output_type": "stream",
          "name": "stdout",
          "text": [
            "Extracting data/FashionMNIST/raw/train-images-idx3-ubyte.gz to data/FashionMNIST/raw\n",
            "\n",
            "Downloading http://fashion-mnist.s3-website.eu-central-1.amazonaws.com/train-labels-idx1-ubyte.gz\n",
            "Downloading http://fashion-mnist.s3-website.eu-central-1.amazonaws.com/train-labels-idx1-ubyte.gz to data/FashionMNIST/raw/train-labels-idx1-ubyte.gz\n"
          ]
        },
        {
          "output_type": "stream",
          "name": "stderr",
          "text": [
            "100%|██████████| 29515/29515 [00:00<00:00, 117964.49it/s]\n"
          ]
        },
        {
          "output_type": "stream",
          "name": "stdout",
          "text": [
            "Extracting data/FashionMNIST/raw/train-labels-idx1-ubyte.gz to data/FashionMNIST/raw\n",
            "\n",
            "Downloading http://fashion-mnist.s3-website.eu-central-1.amazonaws.com/t10k-images-idx3-ubyte.gz\n",
            "Downloading http://fashion-mnist.s3-website.eu-central-1.amazonaws.com/t10k-images-idx3-ubyte.gz to data/FashionMNIST/raw/t10k-images-idx3-ubyte.gz\n"
          ]
        },
        {
          "output_type": "stream",
          "name": "stderr",
          "text": [
            "100%|██████████| 4422102/4422102 [00:02<00:00, 2204531.18it/s]\n"
          ]
        },
        {
          "output_type": "stream",
          "name": "stdout",
          "text": [
            "Extracting data/FashionMNIST/raw/t10k-images-idx3-ubyte.gz to data/FashionMNIST/raw\n",
            "\n",
            "Downloading http://fashion-mnist.s3-website.eu-central-1.amazonaws.com/t10k-labels-idx1-ubyte.gz\n",
            "Downloading http://fashion-mnist.s3-website.eu-central-1.amazonaws.com/t10k-labels-idx1-ubyte.gz to data/FashionMNIST/raw/t10k-labels-idx1-ubyte.gz\n"
          ]
        },
        {
          "output_type": "stream",
          "name": "stderr",
          "text": [
            "100%|██████████| 5148/5148 [00:00<00:00, 12338444.00it/s]"
          ]
        },
        {
          "output_type": "stream",
          "name": "stdout",
          "text": [
            "Extracting data/FashionMNIST/raw/t10k-labels-idx1-ubyte.gz to data/FashionMNIST/raw\n",
            "\n"
          ]
        },
        {
          "output_type": "stream",
          "name": "stderr",
          "text": [
            "\n"
          ]
        },
        {
          "output_type": "display_data",
          "data": {
            "text/plain": [
              "  0%|          | 0/4 [00:00<?, ?it/s]"
            ],
            "application/vnd.jupyter.widget-view+json": {
              "version_major": 2,
              "version_minor": 0,
              "model_id": "7a6ef82970c14d7b8c90c10c5843aacc"
            }
          },
          "metadata": {}
        },
        {
          "output_type": "stream",
          "name": "stdout",
          "text": [
            "Looked at 0 out of 60000 samples\n",
            "Looked at 12800 out of 60000 samples\n",
            "Looked at 25600 out of 60000 samples\n",
            "Looked at 38400 out of 60000 samples\n",
            "Looked at 51200 out of 60000 samples\n",
            "loss: 0.59880, acc: 0.75\n",
            "testLoss: 0.36122, testAcc: 0.80\n",
            "Looked at 0 out of 60000 samples\n",
            "Looked at 12800 out of 60000 samples\n",
            "Looked at 25600 out of 60000 samples\n",
            "Looked at 38400 out of 60000 samples\n",
            "Looked at 51200 out of 60000 samples\n",
            "loss: 0.34516, acc: 0.81\n",
            "testLoss: 0.30347, testAcc: 0.82\n",
            "Looked at 0 out of 60000 samples\n",
            "Looked at 12800 out of 60000 samples\n",
            "Looked at 25600 out of 60000 samples\n",
            "Looked at 38400 out of 60000 samples\n",
            "Looked at 51200 out of 60000 samples\n",
            "loss: 0.31015, acc: 0.82\n",
            "testLoss: 0.28583, testAcc: 0.82\n",
            "Looked at 0 out of 60000 samples\n",
            "Looked at 12800 out of 60000 samples\n",
            "Looked at 25600 out of 60000 samples\n",
            "Looked at 38400 out of 60000 samples\n",
            "Looked at 51200 out of 60000 samples\n",
            "loss: 0.28881, acc: 0.82\n",
            "testLoss: 0.26579, testAcc: 0.83\n"
          ]
        }
      ]
    },
    {
      "cell_type": "code",
      "source": [
        "img, label = fashion_test_dataset[4]\n",
        "img.shape\n",
        "\n",
        "logit = fashion_model(img.unsqueeze(dim=0))\n",
        "print(logit)\n",
        "pred = torch.softmax(logit.squeeze(), dim=0).argmax(dim=0)\n",
        "pred.item()"
      ],
      "metadata": {
        "colab": {
          "base_uri": "https://localhost:8080/"
        },
        "id": "9vlQl3pJIqPZ",
        "outputId": "6f359ceb-0366-459c-a9f3-78eb677f2b8d"
      },
      "execution_count": 146,
      "outputs": [
        {
          "output_type": "stream",
          "name": "stdout",
          "text": [
            "tensor([[ 4.3262,  4.9864, -5.0404,  5.2212,  1.6681, -4.9351,  6.6154, -4.1319,\n",
            "         -1.0846, -7.9613]], grad_fn=<AddmmBackward0>)\n"
          ]
        },
        {
          "output_type": "execute_result",
          "data": {
            "text/plain": [
              "6"
            ]
          },
          "metadata": {},
          "execution_count": 146
        }
      ]
    },
    {
      "cell_type": "code",
      "source": [
        "fashion_model.train()\n",
        "incorrect_indexes = []\n",
        "with torch.inference_mode():\n",
        "  for idx, (img, label) in tqdm(enumerate(fashion_test_dataset)):\n",
        "    y_logit = fashion_model(img.unsqueeze(dim=0))\n",
        "    y_pred = torch.softmax(y_logit.squeeze(), dim=0).argmax(dim=0).item()\n",
        "    if y_pred != label:\n",
        "      incorrect_indexes.append(idx)\n"
      ],
      "metadata": {
        "colab": {
          "base_uri": "https://localhost:8080/",
          "height": 49,
          "referenced_widgets": [
            "163ed6123ec44d9e8065a3df44a22a32",
            "cef6c61206504a1e950c5447fc93e80b",
            "29b891ea53104b64a7b7a0ab8a7333b6",
            "bc8ebf3f4ae74e5192bd493703cd293a",
            "f0dfdc5cc13e4e2180afc1130349c0e0",
            "06bd6f8df8924b5d833407acf9f93b52",
            "8506add3e66a4a0a91fb46b3d1645fad",
            "42b3865336eb47ed99446ed455604e2b",
            "8642fbd2ff254aeb9ba5da6b97519119",
            "bcf85172e51b4a8ea2f6bc7937ec3602",
            "8bfb33ddd7484771a39ba703fadcfa2d"
          ]
        },
        "id": "lwFPjY5uK0PM",
        "outputId": "4eefce24-f67e-446b-f2fc-6b304990e5e8"
      },
      "execution_count": 149,
      "outputs": [
        {
          "output_type": "display_data",
          "data": {
            "text/plain": [
              "0it [00:00, ?it/s]"
            ],
            "application/vnd.jupyter.widget-view+json": {
              "version_major": 2,
              "version_minor": 0,
              "model_id": "163ed6123ec44d9e8065a3df44a22a32"
            }
          },
          "metadata": {}
        }
      ]
    },
    {
      "cell_type": "code",
      "source": [
        "len(incorrect_indexes)"
      ],
      "metadata": {
        "colab": {
          "base_uri": "https://localhost:8080/"
        },
        "id": "-fYKAsXeMqBb",
        "outputId": "2686f9f2-0046-4223-b585-7cf4f30421d7"
      },
      "execution_count": 150,
      "outputs": [
        {
          "output_type": "execute_result",
          "data": {
            "text/plain": [
              "5769"
            ]
          },
          "metadata": {},
          "execution_count": 150
        }
      ]
    },
    {
      "cell_type": "code",
      "source": [
        "fashion_classes = fashion_train_dataset.classes\n",
        "fashion_classes"
      ],
      "metadata": {
        "colab": {
          "base_uri": "https://localhost:8080/"
        },
        "id": "2AGmi0WmRR6x",
        "outputId": "958e94a5-c830-4341-cd20-b279182031f6"
      },
      "execution_count": 158,
      "outputs": [
        {
          "output_type": "execute_result",
          "data": {
            "text/plain": [
              "['T-shirt/top',\n",
              " 'Trouser',\n",
              " 'Pullover',\n",
              " 'Dress',\n",
              " 'Coat',\n",
              " 'Sandal',\n",
              " 'Shirt',\n",
              " 'Sneaker',\n",
              " 'Bag',\n",
              " 'Ankle boot']"
            ]
          },
          "metadata": {},
          "execution_count": 158
        }
      ]
    },
    {
      "cell_type": "code",
      "source": [
        "fig = plt.figure(figsize=(12, 12))\n",
        "rows, cols = 3, 3\n",
        "for i in range(1, 10):\n",
        "  randIndex = torch.randint(0, len(incorrect_indexes), size=[1])\n",
        "  target_idx = incorrect_indexes[randIndex]\n",
        "  img, label = fashion_test_dataset[target_idx]\n",
        "\n",
        "  fashion_model.train()\n",
        "  with torch.inference_mode():\n",
        "    logit = fashion_model(img.unsqueeze(dim=0))\n",
        "    y_pred = torch.softmax(logit.squeeze(), dim=0).argmax(dim=0).item()\n",
        "\n",
        "  plt.subplot(rows, cols, i)\n",
        "  plt.imshow(img.squeeze(), cmap=\"gray\")\n",
        "  plt.title(f\"true: {fashion_classes[label]}, pred: {fashion_classes[y_pred]}\")\n",
        "\n"
      ],
      "metadata": {
        "colab": {
          "base_uri": "https://localhost:8080/",
          "height": 1000
        },
        "id": "MswJsh2_OFua",
        "outputId": "e492e798-0b38-4472-949d-cc8f034b490e"
      },
      "execution_count": 159,
      "outputs": [
        {
          "output_type": "display_data",
          "data": {
            "text/plain": [
              "<Figure size 1200x1200 with 9 Axes>"
            ],
            "image/png": "[encoded data removed]"
          },
          "metadata": {}
        }
      ]
    },
    {
      "cell_type": "code",
      "source": [
        "# save the fashion model\n",
        "\n",
        "FASHION_MODEL_PATH = \"FashionMNISTModel.pth\"\n",
        "FASHION_SAVE_MODEL_PATH = MODEL_PATH / FASHION_MODEL_PATH\n",
        "\n",
        "torch.save(obj=fashion_model.state_dict(),\n",
        "           f=FASHION_SAVE_MODEL_PATH)\n"
      ],
      "metadata": {
        "id": "QWFVMZgXQrpj"
      },
      "execution_count": 160,
      "outputs": []
    },
    {
      "cell_type": "code",
      "source": [
        "from torchvision.datasets.mnist import FashionMNIST\n",
        "# load it back up\n",
        "\n",
        "loaded_fashion_model = MNISTModel(1, 10, 10)\n",
        "loaded_fashion_model.load_state_dict(torch.load(FASHION_SAVE_MODEL_PATH))\n",
        "\n",
        "loaded_fashion_model.state_dict()"
      ],
      "metadata": {
        "colab": {
          "base_uri": "https://localhost:8080/"
        },
        "id": "vt7EYdjmSdRV",
        "outputId": "4682f9df-1535-4b76-dda9-2ff3d25c8fcc"
      },
      "execution_count": 163,
      "outputs": [
        {
          "output_type": "execute_result",
          "data": {
            "text/plain": [
              "OrderedDict([('conv_block1.0.weight',\n",
              "              tensor([[[[ 0.2361, -0.1042, -0.3516],\n",
              "                        [ 0.1742, -0.1793, -0.3823],\n",
              "                        [-0.4919, -0.2142, -0.3674]]],\n",
              "              \n",
              "              \n",
              "                      [[[ 0.6093, -0.5098, -0.0013],\n",
              "                        [ 0.7442, -0.4552, -0.4774],\n",
              "                        [ 0.7214,  0.0756, -0.5189]]],\n",
              "              \n",
              "              \n",
              "                      [[[-0.0035,  0.2076,  0.1936],\n",
              "                        [-0.7763,  0.3958,  0.4726],\n",
              "                        [-0.5186, -0.1268,  0.1902]]],\n",
              "              \n",
              "              \n",
              "                      [[[-0.9359, -0.3483,  0.2166],\n",
              "                        [-1.1445, -0.3528,  0.0809],\n",
              "                        [ 0.0145,  0.6235, -0.0376]]],\n",
              "              \n",
              "              \n",
              "                      [[[ 0.7758,  0.1146, -0.1547],\n",
              "                        [ 0.5860,  0.2732, -0.3656],\n",
              "                        [-0.2908, -0.4915, -0.6240]]],\n",
              "              \n",
              "              \n",
              "                      [[[-0.1567,  0.3321, -0.2276],\n",
              "                        [-0.2742,  0.2321, -0.1751],\n",
              "                        [ 0.2832, -0.2706,  0.2003]]],\n",
              "              \n",
              "              \n",
              "                      [[[-0.5278, -0.7667, -0.5724],\n",
              "                        [-0.2398, -0.4828, -0.7382],\n",
              "                        [ 0.4292, -0.5661, -0.7341]]],\n",
              "              \n",
              "              \n",
              "                      [[[ 0.4255,  0.1050,  0.3378],\n",
              "                        [-0.4814, -0.9086,  0.0166],\n",
              "                        [-0.8869, -1.0638, -0.6421]]],\n",
              "              \n",
              "              \n",
              "                      [[[-0.1287, -0.3061, -0.8215],\n",
              "                        [ 0.3766,  0.6323, -0.1119],\n",
              "                        [ 0.1378,  0.3648, -0.5329]]],\n",
              "              \n",
              "              \n",
              "                      [[[-0.0115, -0.1068, -0.0358],\n",
              "                        [-0.2653,  0.1915,  0.0378],\n",
              "                        [ 0.1591, -0.0532, -0.1849]]]])),\n",
              "             ('conv_block1.0.bias',\n",
              "              tensor([ 0.0304,  0.2129,  0.1430,  0.1147, -0.1022, -0.3003,  0.2022,  0.3192,\n",
              "                       0.1679, -0.3033])),\n",
              "             ('conv_block1.2.weight',\n",
              "              tensor([[[[-1.6372e-01, -2.1585e-01, -3.3313e-02],\n",
              "                        [-1.4572e-01,  5.8702e-02, -4.8539e-02],\n",
              "                        [-9.2537e-02, -1.5963e-01, -7.8576e-02]],\n",
              "              \n",
              "                       [[-1.3950e-02,  9.3705e-02,  2.5703e-01],\n",
              "                        [ 1.4340e-03,  8.9410e-03,  1.2497e-02],\n",
              "                        [ 5.8293e-02,  1.0332e-02, -6.8067e-03]],\n",
              "              \n",
              "                       [[ 9.0857e-02, -2.9331e-02,  5.0866e-02],\n",
              "                        [ 1.4268e-01, -2.3952e-01, -1.1842e-01],\n",
              "                        [-1.9053e-01, -2.3271e-01, -2.2004e-01]],\n",
              "              \n",
              "                       [[-1.7868e-03, -3.5556e-01, -2.1811e-01],\n",
              "                        [-2.3272e-01, -2.7676e-01, -2.7017e-01],\n",
              "                        [ 3.7917e-02, -1.8015e-02, -1.7532e-01]],\n",
              "              \n",
              "                       [[-1.5267e-01, -3.2973e-01, -2.0878e-01],\n",
              "                        [-8.9829e-02, -2.2679e-01, -1.0655e-01],\n",
              "                        [-1.0102e-01, -1.1933e-01, -9.4766e-02]],\n",
              "              \n",
              "                       [[ 7.3122e-02,  1.0001e-01,  1.4665e-02],\n",
              "                        [-1.3886e-02,  4.9591e-02, -2.0926e-02],\n",
              "                        [ 2.5243e-02,  8.5125e-02,  5.7346e-02]],\n",
              "              \n",
              "                       [[-2.5413e-01, -2.7976e-01,  7.3856e-02],\n",
              "                        [-3.1764e-01, -2.1372e-01, -2.0209e-01],\n",
              "                        [-2.0264e-01, -5.0177e-02,  2.4062e-02]],\n",
              "              \n",
              "                       [[-3.9452e-01, -3.4528e-01, -1.3430e-01],\n",
              "                        [-1.7337e-01, -1.9517e-01,  1.2592e-02],\n",
              "                        [-2.5517e-01, -1.9561e-01, -2.9544e-01]],\n",
              "              \n",
              "                       [[ 1.8182e-02,  1.6690e-01,  2.5964e-01],\n",
              "                        [-1.7484e-01,  1.5740e-01,  9.4705e-03],\n",
              "                        [ 1.5039e-02,  1.0690e-01, -4.8796e-02]],\n",
              "              \n",
              "                       [[-3.0623e-02, -1.0471e-01,  8.7940e-02],\n",
              "                        [ 7.9479e-02, -7.1722e-02, -3.0350e-02],\n",
              "                        [ 4.1628e-02,  8.8580e-03,  1.0975e-02]]],\n",
              "              \n",
              "              \n",
              "                      [[[-1.2318e-01, -7.8524e-02, -6.6580e-02],\n",
              "                        [-2.0163e-01, -4.7202e-02,  2.1487e-02],\n",
              "                        [-3.0598e-02,  2.5344e-02,  6.1360e-02]],\n",
              "              \n",
              "                       [[-2.8026e-01,  9.9063e-02, -1.9650e-01],\n",
              "                        [-5.6530e-02,  2.4031e-01, -1.4036e-01],\n",
              "                        [ 6.5669e-02,  2.1739e-01, -3.0619e-02]],\n",
              "              \n",
              "                       [[-1.6539e-01, -1.4823e-01, -2.1216e-02],\n",
              "                        [ 4.3726e-03, -1.7525e-01, -1.5249e-01],\n",
              "                        [ 6.6344e-02, -7.1247e-03,  2.1163e-02]],\n",
              "              \n",
              "                       [[-1.5884e-01, -2.0021e-01, -1.1695e-01],\n",
              "                        [-2.7104e-02, -1.5542e-01,  1.0261e-02],\n",
              "                        [-1.4050e-01, -1.7993e-01, -1.1408e-01]],\n",
              "              \n",
              "                       [[-4.3537e-02,  6.1038e-03, -2.5250e-01],\n",
              "                        [-6.7762e-02, -6.7546e-02, -1.7764e-01],\n",
              "                        [ 8.7525e-02,  1.0909e-01, -1.2024e-01]],\n",
              "              \n",
              "                       [[ 4.3650e-02, -2.9784e-02,  4.2500e-02],\n",
              "                        [-5.6463e-02,  7.0527e-02, -6.1151e-02],\n",
              "                        [ 5.3210e-02,  9.3706e-02,  8.1948e-02]],\n",
              "              \n",
              "                       [[-2.4646e-01, -2.5069e-01,  2.1413e-01],\n",
              "                        [-3.6572e-01, -2.9634e-01, -7.7917e-02],\n",
              "                        [-2.1175e-01,  1.2661e-02,  1.0792e-01]],\n",
              "              \n",
              "                       [[-2.1814e-01, -1.0828e-01,  5.8472e-02],\n",
              "                        [-3.4790e-01, -3.0017e-01,  4.0250e-02],\n",
              "                        [ 7.6625e-03,  7.0335e-02,  3.2410e-01]],\n",
              "              \n",
              "                       [[-5.8452e-02,  1.1873e-01,  2.1591e-02],\n",
              "                        [ 3.1017e-02,  7.7055e-02,  4.9691e-02],\n",
              "                        [ 1.0709e-02,  7.2205e-02,  1.8972e-02]],\n",
              "              \n",
              "                       [[ 1.8825e-02, -9.3023e-02, -1.0160e-01],\n",
              "                        [-1.4691e-02, -5.5516e-02,  9.9678e-02],\n",
              "                        [-2.5782e-02,  8.1810e-02,  7.8538e-02]]],\n",
              "              \n",
              "              \n",
              "                      [[[-5.7638e-03, -8.9939e-02,  6.4244e-02],\n",
              "                        [-9.6466e-02, -6.0674e-02, -2.8954e-02],\n",
              "                        [-1.2365e-01,  4.1792e-02,  1.2338e-01]],\n",
              "              \n",
              "                       [[ 1.7151e-01, -3.1802e-01,  2.4590e-01],\n",
              "                        [ 1.3835e-01, -3.6821e-01,  3.9017e-01],\n",
              "                        [ 8.8013e-02, -1.4462e-01,  2.4740e-01]],\n",
              "              \n",
              "                       [[ 4.9010e-02,  1.7074e-01, -8.7001e-02],\n",
              "                        [ 4.6726e-02,  1.1345e-01, -2.2493e-01],\n",
              "                        [-3.7454e-02, -1.7979e-01, -3.0036e-01]],\n",
              "              \n",
              "                       [[ 1.3803e-01, -8.4423e-02, -9.9627e-02],\n",
              "                        [ 4.0052e-01,  5.2478e-02, -1.7190e-01],\n",
              "                        [ 3.0381e-01,  2.2284e-02, -1.0812e-01]],\n",
              "              \n",
              "                       [[-2.3945e-02,  2.7219e-02, -1.4717e-01],\n",
              "                        [ 4.4177e-02, -7.2387e-02,  3.8474e-02],\n",
              "                        [-9.2036e-03,  1.0778e-01,  9.6473e-02]],\n",
              "              \n",
              "                       [[ 1.7426e-02,  2.3321e-02, -2.7775e-02],\n",
              "                        [ 4.1560e-02, -1.1831e-02,  8.3080e-03],\n",
              "                        [ 1.0390e-02,  6.1189e-02,  2.2302e-02]],\n",
              "              \n",
              "                       [[-7.3405e-02, -1.2992e-01, -1.0559e-01],\n",
              "                        [-2.0329e-01, -2.3131e-01, -1.7899e-01],\n",
              "                        [-8.0052e-02, -1.4513e-01, -1.3916e-01]],\n",
              "              \n",
              "                       [[ 1.8215e-01, -8.9185e-02, -1.9604e-01],\n",
              "                        [ 2.9884e-01,  4.2069e-02, -1.2416e-01],\n",
              "                        [ 1.1275e-01, -1.4968e-01, -9.2085e-02]],\n",
              "              \n",
              "                       [[-2.3977e-01, -4.0747e-02,  1.6495e-01],\n",
              "                        [-2.7955e-01, -6.3189e-03,  1.8793e-01],\n",
              "                        [-5.3030e-03,  3.1835e-02,  1.2192e-01]],\n",
              "              \n",
              "                       [[ 1.0230e-02, -9.4384e-02,  3.4543e-03],\n",
              "                        [ 2.1596e-02,  7.9863e-02, -3.8088e-02],\n",
              "                        [-7.8398e-02, -2.0600e-03, -6.5883e-02]]],\n",
              "              \n",
              "              \n",
              "                      [[[-4.7280e-02,  6.9609e-02,  2.5282e-02],\n",
              "                        [ 9.6338e-02, -5.9055e-02,  5.3184e-02],\n",
              "                        [-2.5972e-02, -9.4980e-02, -3.1640e-02]],\n",
              "              \n",
              "                       [[-2.4958e-02,  1.0273e-01,  2.5645e-01],\n",
              "                        [-2.0814e-01, -1.5811e-03,  2.5176e-01],\n",
              "                        [-1.2841e-01, -5.9811e-02,  1.3395e-01]],\n",
              "              \n",
              "                       [[-1.0715e-01,  5.8313e-02, -1.6025e-01],\n",
              "                        [ 5.5494e-02, -4.6858e-02, -2.1562e-01],\n",
              "                        [ 1.4715e-02,  3.7226e-02, -1.5346e-01]],\n",
              "              \n",
              "                       [[ 2.8464e-03,  1.7301e-02,  1.1938e-01],\n",
              "                        [ 2.2406e-02, -1.4397e-01, -8.7325e-02],\n",
              "                        [-6.2852e-02,  6.7265e-02, -2.5079e-02]],\n",
              "              \n",
              "                       [[-1.6717e-02,  2.3110e-02,  3.4637e-02],\n",
              "                        [ 9.3362e-02, -1.0291e-02,  7.6769e-02],\n",
              "                        [ 1.0026e-01,  3.5747e-02,  1.5066e-01]],\n",
              "              \n",
              "                       [[ 7.4641e-02,  3.6229e-06,  8.8627e-02],\n",
              "                        [-2.5514e-02,  8.1902e-02,  1.0194e-02],\n",
              "                        [-1.0262e-01,  3.9142e-02,  1.3638e-02]],\n",
              "              \n",
              "                       [[-8.7921e-02,  3.6574e-02, -1.2227e-01],\n",
              "                        [-1.0709e-01, -2.1918e-02,  1.7781e-03],\n",
              "                        [ 6.3650e-02, -7.4486e-02, -8.4000e-02]],\n",
              "              \n",
              "                       [[-1.6985e-02,  5.3813e-02,  4.5593e-02],\n",
              "                        [ 2.0548e-02,  1.9655e-03, -1.7184e-02],\n",
              "                        [ 2.3651e-01,  2.0426e-02, -4.1981e-03]],\n",
              "              \n",
              "                       [[-7.6368e-02, -3.2593e-02, -2.4135e-02],\n",
              "                        [-1.4650e-01,  1.7780e-01,  1.7403e-01],\n",
              "                        [-6.7750e-02,  5.7139e-02,  1.2939e-01]],\n",
              "              \n",
              "                       [[ 1.6378e-02, -8.7384e-02, -9.0062e-02],\n",
              "                        [ 4.6300e-02,  8.2255e-02,  9.5994e-02],\n",
              "                        [ 2.6872e-02, -6.9647e-02, -7.0146e-02]]],\n",
              "              \n",
              "              \n",
              "                      [[[ 1.9417e-02,  6.9446e-02, -1.4622e-02],\n",
              "                        [ 4.7818e-02,  7.4705e-02,  5.3588e-02],\n",
              "                        [-1.9225e-02, -1.2700e-02, -5.8122e-02]],\n",
              "              \n",
              "                       [[-5.7341e-03, -9.9159e-02,  5.7127e-02],\n",
              "                        [ 2.0931e-02,  4.0319e-02,  7.0636e-02],\n",
              "                        [-3.3028e-02,  8.5155e-03, -5.1538e-02]],\n",
              "              \n",
              "                       [[ 1.8034e-02,  2.1115e-02,  3.5052e-02],\n",
              "                        [-3.4313e-02,  1.4477e-02, -8.7212e-02],\n",
              "                        [-8.3253e-02, -1.0850e-01,  3.7657e-02]],\n",
              "              \n",
              "                       [[-8.4914e-02, -2.8635e-02, -4.7539e-03],\n",
              "                        [ 2.7675e-03,  9.1850e-02,  1.1022e-01],\n",
              "                        [-3.0728e-02, -3.2047e-03, -7.6104e-02]],\n",
              "              \n",
              "                       [[-6.4726e-02, -4.3732e-02, -2.8778e-02],\n",
              "                        [ 6.2938e-02, -3.4027e-02,  1.6570e-02],\n",
              "                        [-8.8474e-02, -4.5689e-02,  4.4104e-03]],\n",
              "              \n",
              "                       [[-3.3438e-02,  9.5759e-02, -1.2416e-02],\n",
              "                        [ 9.6548e-02,  5.0370e-02,  4.4885e-02],\n",
              "                        [-9.7098e-02,  5.1842e-02, -7.7176e-02]],\n",
              "              \n",
              "                       [[ 1.1510e-01,  8.7408e-02, -3.8133e-02],\n",
              "                        [ 3.5412e-02,  4.8699e-02, -7.3793e-02],\n",
              "                        [ 3.2545e-02,  7.1913e-03,  3.9874e-02]],\n",
              "              \n",
              "                       [[ 7.8322e-02, -5.5242e-02, -9.4725e-02],\n",
              "                        [-7.3406e-02, -3.0583e-03, -2.5217e-02],\n",
              "                        [-6.3138e-02, -4.3887e-02,  4.3247e-02]],\n",
              "              \n",
              "                       [[-8.9937e-02,  5.0076e-02,  2.4649e-02],\n",
              "                        [-4.6184e-02, -3.4598e-02,  7.4189e-04],\n",
              "                        [ 5.1418e-02, -2.1727e-02, -7.4591e-02]],\n",
              "              \n",
              "                       [[ 8.9824e-02, -2.0415e-02,  3.5243e-02],\n",
              "                        [ 9.5864e-02,  2.1548e-02,  9.4907e-02],\n",
              "                        [-2.5293e-02, -5.5819e-02,  5.3394e-02]]],\n",
              "              \n",
              "              \n",
              "                      [[[ 3.7036e-02,  8.6553e-02,  1.8330e-01],\n",
              "                        [ 2.1540e-02, -5.8770e-02,  1.4124e-01],\n",
              "                        [ 1.8923e-01, -3.0295e-02,  3.8345e-02]],\n",
              "              \n",
              "                       [[-1.0723e-01, -6.3488e-02,  1.2733e-01],\n",
              "                        [-5.5319e-02, -8.3975e-02, -1.3264e-01],\n",
              "                        [ 1.9344e-01,  3.9415e-02,  1.3813e-02]],\n",
              "              \n",
              "                       [[ 4.7612e-02,  1.3351e-01,  1.4736e-02],\n",
              "                        [-1.9575e-01,  4.6724e-02,  1.0189e-01],\n",
              "                        [-3.1204e-02,  6.8010e-02,  1.9107e-01]],\n",
              "              \n",
              "                       [[-5.3160e-02, -1.2172e-01, -2.9242e-01],\n",
              "                        [ 1.1106e-01, -1.0511e-01, -6.5387e-02],\n",
              "                        [-8.5284e-02,  4.9084e-02,  1.0481e-01]],\n",
              "              \n",
              "                       [[ 1.2695e-01,  1.7693e-01,  1.8691e-01],\n",
              "                        [ 1.1328e-01,  9.9005e-02, -7.9273e-02],\n",
              "                        [-1.1053e-01, -6.9687e-02, -8.2754e-02]],\n",
              "              \n",
              "                       [[-1.1131e-02, -5.2412e-02, -8.3918e-02],\n",
              "                        [-2.8134e-02,  1.0879e-01,  8.9419e-02],\n",
              "                        [-4.0289e-02,  7.8801e-02, -8.6553e-03]],\n",
              "              \n",
              "                       [[-1.9651e-01, -2.5933e-01,  1.4041e-02],\n",
              "                        [-1.6029e-01, -6.0195e-02, -9.3035e-02],\n",
              "                        [ 2.4465e-01,  3.9637e-02,  1.7052e-01]],\n",
              "              \n",
              "                       [[ 1.8106e-01,  2.2952e-01,  1.4633e-01],\n",
              "                        [ 1.7171e-01,  2.1241e-01,  1.7018e-01],\n",
              "                        [ 2.2483e-01,  2.4592e-01,  1.5926e-01]],\n",
              "              \n",
              "                       [[-1.0128e-01, -2.9143e-02, -8.0941e-02],\n",
              "                        [-1.6328e-01, -5.7317e-02, -2.2793e-02],\n",
              "                        [-1.1833e-01, -8.6743e-02,  1.6390e-02]],\n",
              "              \n",
              "                       [[-8.8120e-02,  9.2831e-02, -4.6575e-02],\n",
              "                        [-2.1678e-02, -1.9726e-02, -2.8021e-02],\n",
              "                        [-8.7509e-02, -6.5582e-03, -3.0844e-02]]],\n",
              "              \n",
              "              \n",
              "                      [[[ 7.6564e-02, -8.1314e-02, -9.7828e-02],\n",
              "                        [ 1.1476e-01,  1.8403e-02, -1.8894e-01],\n",
              "                        [ 7.1091e-02, -1.2460e-01, -2.3971e-02]],\n",
              "              \n",
              "                       [[ 4.4948e-02, -1.2947e-01, -1.0984e-01],\n",
              "                        [-4.0960e-02, -3.3462e-01, -1.2656e-01],\n",
              "                        [ 9.7730e-02, -2.8214e-01, -1.5206e-01]],\n",
              "              \n",
              "                       [[-2.6540e-01, -2.0902e-01,  1.1406e-01],\n",
              "                        [ 3.6732e-02,  2.8449e-02,  2.8197e-01],\n",
              "                        [ 6.5138e-04,  3.0508e-01,  7.9061e-02]],\n",
              "              \n",
              "                       [[-1.4788e-01, -3.0806e-01, -1.1676e-01],\n",
              "                        [-2.8289e-02,  2.0918e-01,  1.1660e-01],\n",
              "                        [ 1.8342e-01,  2.3953e-01,  7.1067e-02]],\n",
              "              \n",
              "                       [[ 3.6822e-02, -5.2086e-02, -2.0715e-01],\n",
              "                        [ 7.2427e-02, -1.0831e-01, -1.5617e-01],\n",
              "                        [ 2.2572e-02, -1.0423e-01, -1.7842e-01]],\n",
              "              \n",
              "                       [[ 6.8279e-02,  5.4214e-02, -3.4578e-02],\n",
              "                        [-1.6589e-02, -2.3506e-02,  6.1880e-02],\n",
              "                        [ 5.5231e-02, -8.8724e-02, -2.6723e-02]],\n",
              "              \n",
              "                       [[-5.7247e-02, -3.2022e-01, -3.5549e-01],\n",
              "                        [ 1.7599e-01, -2.2885e-01, -3.3697e-01],\n",
              "                        [ 3.7795e-01, -1.3533e-01, -3.0430e-01]],\n",
              "              \n",
              "                       [[ 8.1684e-02, -1.6393e-01, -2.4575e-01],\n",
              "                        [ 2.7408e-01,  1.8750e-01, -9.4463e-02],\n",
              "                        [ 1.9768e-01,  8.8332e-02, -1.3651e-01]],\n",
              "              \n",
              "                       [[ 4.2959e-02, -3.8554e-01,  1.5629e-01],\n",
              "                        [-2.0944e-01, -2.6485e-01, -1.0674e-01],\n",
              "                        [ 1.0671e-01, -1.4391e-01,  2.0740e-01]],\n",
              "              \n",
              "                       [[ 4.8316e-02,  4.4367e-03,  1.0437e-01],\n",
              "                        [-8.6070e-02, -5.8765e-02,  6.9127e-02],\n",
              "                        [ 5.7430e-02,  4.2365e-02, -3.8734e-02]]],\n",
              "              \n",
              "              \n",
              "                      [[[-1.3347e-01,  1.1625e-01,  3.3415e-02],\n",
              "                        [-1.3050e-01,  3.5201e-02, -5.9783e-03],\n",
              "                        [-8.5941e-02, -6.9036e-02, -9.6657e-02]],\n",
              "              \n",
              "                       [[-5.5019e-02,  1.3728e-01,  2.0647e-01],\n",
              "                        [ 1.3261e-01, -3.1417e-01,  2.7769e-01],\n",
              "                        [ 1.4025e-01, -4.9423e-01, -2.1119e-01]],\n",
              "              \n",
              "                       [[ 5.3280e-02,  1.4513e-03, -3.3070e-01],\n",
              "                        [-2.0112e-01,  1.3243e-01, -1.0512e-01],\n",
              "                        [-3.7803e-01,  2.7701e-01,  2.6279e-01]],\n",
              "              \n",
              "                       [[ 1.3692e-01, -4.9632e-01, -3.3560e-01],\n",
              "                        [ 3.1139e-01,  5.4462e-02, -1.7658e-01],\n",
              "                        [-2.8410e-02,  3.2129e-01,  1.7484e-02]],\n",
              "              \n",
              "                       [[-1.4429e-01,  2.8844e-02, -5.2334e-02],\n",
              "                        [-1.3847e-01, -1.4569e-01, -1.8174e-01],\n",
              "                        [ 9.0007e-02, -1.0070e-01, -2.4808e-01]],\n",
              "              \n",
              "                       [[ 6.7590e-02,  7.0581e-03,  4.5901e-02],\n",
              "                        [-1.2729e-02,  1.0716e-01, -1.0191e-02],\n",
              "                        [-9.8391e-03,  7.0990e-02,  1.2447e-02]],\n",
              "              \n",
              "                       [[-2.9794e-01, -1.3684e-01, -1.5716e-01],\n",
              "                        [-1.1431e-01, -2.4604e-01, -1.2302e-01],\n",
              "                        [ 1.5707e-01,  1.1724e-02, -6.2558e-02]],\n",
              "              \n",
              "                       [[ 3.9829e-01, -1.1725e-01, -2.1421e-01],\n",
              "                        [ 4.9473e-01,  6.2352e-02, -2.8776e-01],\n",
              "                        [ 3.7688e-01,  1.6861e-01, -1.0218e-01]],\n",
              "              \n",
              "                       [[-3.6930e-01,  2.0272e-01, -1.0542e-01],\n",
              "                        [-2.1439e-01,  1.5826e-01, -7.8987e-02],\n",
              "                        [-1.1287e-01, -2.4600e-02,  1.4008e-01]],\n",
              "              \n",
              "                       [[-7.9549e-02, -7.0758e-02, -9.9778e-02],\n",
              "                        [ 1.0249e-01, -5.3449e-02, -6.2724e-02],\n",
              "                        [ 8.3917e-02,  8.9124e-02,  7.3325e-02]]],\n",
              "              \n",
              "              \n",
              "                      [[[-1.3492e-01,  6.5538e-02,  9.3866e-02],\n",
              "                        [-9.9401e-02,  3.1885e-02,  1.5208e-01],\n",
              "                        [-1.7628e-02,  2.2176e-02, -1.6640e-02]],\n",
              "              \n",
              "                       [[-2.8237e-01,  2.9596e-01,  8.7357e-02],\n",
              "                        [-9.4469e-02,  2.7143e-03,  1.2465e-01],\n",
              "                        [ 7.7181e-02, -1.2779e-01, -5.3380e-03]],\n",
              "              \n",
              "                       [[ 4.3701e-01, -1.6643e-01, -3.2682e-02],\n",
              "                        [ 1.3731e-01,  2.6973e-02,  6.0556e-02],\n",
              "                        [-9.9760e-02, -9.5097e-03,  1.0421e-01]],\n",
              "              \n",
              "                       [[ 1.2323e-01, -6.9178e-02, -1.4737e-01],\n",
              "                        [ 3.1467e-02, -1.6528e-01,  1.2770e-02],\n",
              "                        [ 6.1961e-02, -9.5954e-02, -3.7084e-02]],\n",
              "              \n",
              "                       [[-8.0319e-02,  8.3116e-02, -6.6148e-02],\n",
              "                        [-8.7332e-02,  1.3543e-02, -5.0664e-02],\n",
              "                        [-6.0473e-02, -1.6077e-01, -1.2924e-01]],\n",
              "              \n",
              "                       [[-6.0394e-02, -9.4452e-02, -2.1984e-02],\n",
              "                        [ 4.5246e-03,  6.9043e-02,  6.0426e-02],\n",
              "                        [-3.3502e-02,  3.8347e-02,  3.8715e-02]],\n",
              "              \n",
              "                       [[-6.5403e-02, -2.0931e-02,  1.1598e-01],\n",
              "                        [-5.4355e-02, -1.2793e-01,  1.0741e-03],\n",
              "                        [-1.0767e-01, -9.0495e-02,  1.0910e-01]],\n",
              "              \n",
              "                       [[ 1.7041e-02, -1.2945e-01, -3.3243e-03],\n",
              "                        [-1.4083e-03, -5.5562e-02,  7.2342e-02],\n",
              "                        [ 1.3373e-01, -4.3635e-02, -6.3321e-02]],\n",
              "              \n",
              "                       [[-1.2860e-01,  1.4303e-01, -1.7905e-01],\n",
              "                        [-4.7610e-02,  1.4470e-01, -1.0418e-01],\n",
              "                        [-9.2400e-02, -5.6446e-02,  1.5782e-03]],\n",
              "              \n",
              "                       [[ 5.7349e-02, -3.5901e-02, -1.4438e-02],\n",
              "                        [-3.9970e-02, -3.7453e-02, -6.9163e-02],\n",
              "                        [ 1.3040e-02,  5.9941e-02,  1.4812e-02]]],\n",
              "              \n",
              "              \n",
              "                      [[[-1.1925e-01,  9.3233e-02, -1.3629e-01],\n",
              "                        [ 2.9040e-02, -4.7408e-02, -1.1419e-01],\n",
              "                        [-1.3051e-01, -4.3356e-02,  2.8742e-02]],\n",
              "              \n",
              "                       [[-7.0651e-02, -3.5852e-01,  3.2147e-02],\n",
              "                        [-8.1207e-02, -3.0876e-01,  1.6270e-01],\n",
              "                        [-2.7629e-01, -1.5324e-01,  1.1531e-01]],\n",
              "              \n",
              "                       [[-1.8301e-01,  2.5322e-01, -2.1696e-01],\n",
              "                        [-1.6967e-01,  4.2446e-01, -1.0951e-01],\n",
              "                        [-1.2266e-01,  2.0290e-01, -2.8548e-01]],\n",
              "              \n",
              "                       [[ 6.2441e-03, -2.0969e-01, -5.8379e-02],\n",
              "                        [-2.3541e-02,  1.3705e-02, -8.4914e-02],\n",
              "                        [ 2.7314e-02,  5.9455e-02, -2.4250e-02]],\n",
              "              \n",
              "                       [[-9.3107e-02, -1.2908e-01, -2.1101e-01],\n",
              "                        [-4.8071e-03, -1.7941e-01, -2.0788e-01],\n",
              "                        [-1.1057e-02, -1.4076e-01, -1.8739e-01]],\n",
              "              \n",
              "                       [[-3.4423e-02,  1.2525e-03, -8.5474e-02],\n",
              "                        [ 5.5344e-02, -4.9954e-02,  7.9809e-03],\n",
              "                        [ 5.9105e-02,  6.0734e-02,  1.0323e-01]],\n",
              "              \n",
              "                       [[-1.3100e-01,  3.0244e-02, -1.3898e-01],\n",
              "                        [-2.0734e-01,  3.6662e-02, -6.2274e-02],\n",
              "                        [-7.2243e-02,  6.6633e-02,  5.0148e-02]],\n",
              "              \n",
              "                       [[-9.8671e-02,  1.0120e-01, -9.3628e-02],\n",
              "                        [-4.6121e-02,  3.0276e-01,  1.6116e-01],\n",
              "                        [-6.1061e-02,  1.1798e-01, -4.6079e-02]],\n",
              "              \n",
              "                       [[-1.9124e-01, -7.9046e-02, -1.5510e-01],\n",
              "                        [-3.1884e-01,  1.1900e-01, -1.8244e-01],\n",
              "                        [-2.5160e-01,  1.1404e-01, -1.7515e-01]],\n",
              "              \n",
              "                       [[ 5.3453e-02, -1.0096e-01,  8.8187e-02],\n",
              "                        [-7.1025e-02,  5.7498e-02,  4.7303e-02],\n",
              "                        [-5.1553e-02,  9.1116e-02, -4.7763e-03]]]])),\n",
              "             ('conv_block1.2.bias',\n",
              "              tensor([ 0.5178,  0.5636,  0.0399, -0.2844, -0.1291, -0.1811,  0.2580,  0.0629,\n",
              "                       0.0314,  0.4492])),\n",
              "             ('conv_block2.0.weight',\n",
              "              tensor([[[[ 1.7537e-01,  3.7340e-02, -4.8696e-03],\n",
              "                        [ 1.4784e-01, -1.0644e-01,  2.2029e-01],\n",
              "                        [-8.3013e-02, -1.0652e-01,  1.0091e-01]],\n",
              "              \n",
              "                       [[ 6.6396e-02, -1.4389e-01,  2.0167e-01],\n",
              "                        [-3.6338e-02, -1.5007e-01, -1.1262e-02],\n",
              "                        [-1.1480e-01, -1.8089e-01, -1.0181e-01]],\n",
              "              \n",
              "                       [[-7.2102e-02,  1.2191e-01,  1.7171e-01],\n",
              "                        [ 2.4272e-02,  3.5218e-02,  1.2262e-01],\n",
              "                        [-1.1611e-01, -1.4846e-01,  1.4665e-01]],\n",
              "              \n",
              "                       [[ 1.0932e-01,  4.1722e-03,  1.9019e-01],\n",
              "                        [ 5.3272e-02, -1.9807e-02,  1.0102e-01],\n",
              "                        [-9.0511e-02, -9.3387e-02,  1.4357e-02]],\n",
              "              \n",
              "                       [[-1.1860e-04,  3.0510e-02,  2.5887e-03],\n",
              "                        [-9.9675e-03,  5.6186e-02, -1.0259e-01],\n",
              "                        [ 7.4080e-02, -5.3000e-02,  2.6718e-02]],\n",
              "              \n",
              "                       [[-3.6507e-02, -2.6118e-02,  6.6001e-02],\n",
              "                        [-2.8973e-02, -4.4787e-02,  6.8042e-03],\n",
              "                        [-9.0080e-02,  8.7928e-03, -8.5871e-03]],\n",
              "              \n",
              "                       [[-5.2501e-02,  2.2426e-01, -1.5778e-01],\n",
              "                        [-1.7790e-01, -7.5900e-03, -2.0222e-01],\n",
              "                        [-1.8538e-01, -9.3941e-03, -4.7351e-02]],\n",
              "              \n",
              "                       [[-1.4033e-01,  1.7354e-01,  3.3167e-02],\n",
              "                        [-1.2666e-01, -1.6075e-02,  4.1427e-02],\n",
              "                        [-2.5534e-01, -4.2378e-02,  3.2833e-02]],\n",
              "              \n",
              "                       [[ 8.3236e-02,  3.9869e-02,  1.5822e-01],\n",
              "                        [ 1.0721e-01, -9.3174e-02,  1.7633e-01],\n",
              "                        [-3.7991e-02, -1.4402e-01,  6.8866e-02]],\n",
              "              \n",
              "                       [[ 7.6642e-02, -3.3884e-02,  3.0256e-02],\n",
              "                        [-3.6259e-02, -5.4788e-04, -1.2131e-01],\n",
              "                        [-7.3446e-02, -9.1328e-02, -7.7452e-02]]],\n",
              "              \n",
              "              \n",
              "                      [[[ 3.9185e-02,  7.9008e-02,  9.2608e-02],\n",
              "                        [-1.3511e-01,  1.2420e-01, -1.9420e-01],\n",
              "                        [-1.4929e-01, -2.0730e-02,  9.5548e-03]],\n",
              "              \n",
              "                       [[ 9.5324e-02,  2.5229e-02, -5.2050e-02],\n",
              "                        [ 1.1639e-01,  7.2387e-02,  1.4209e-02],\n",
              "                        [-8.2169e-02, -8.2603e-02,  6.2544e-02]],\n",
              "              \n",
              "                       [[-6.1280e-03, -6.1194e-02, -6.4785e-03],\n",
              "                        [-1.2171e-01,  1.1281e-01, -1.8669e-01],\n",
              "                        [-1.6529e-01,  8.1329e-03, -1.5237e-01]],\n",
              "              \n",
              "                       [[-8.6935e-02, -1.5469e-01, -1.6295e-01],\n",
              "                        [ 3.8670e-02,  5.2765e-02,  5.5594e-03],\n",
              "                        [-1.8114e-01, -1.0476e-01, -1.2344e-01]],\n",
              "              \n",
              "                       [[-1.0222e-01, -4.7042e-02,  2.2128e-02],\n",
              "                        [ 8.0629e-02,  1.7750e-02, -1.0921e-01],\n",
              "                        [ 8.8222e-02,  9.0437e-02,  9.2669e-02]],\n",
              "              \n",
              "                       [[-1.0919e-01, -5.2787e-02, -1.7141e-02],\n",
              "                        [ 7.0271e-02,  1.0758e-01,  8.1814e-02],\n",
              "                        [ 4.0866e-02,  4.0531e-02, -4.7941e-03]],\n",
              "              \n",
              "                       [[ 1.7766e-01,  2.5315e-03, -4.4736e-02],\n",
              "                        [ 1.9455e-01,  1.3343e-01, -2.7655e-01],\n",
              "                        [-2.1809e-02, -8.6000e-02, -2.8981e-02]],\n",
              "              \n",
              "                       [[ 1.3948e-01,  4.7995e-02, -1.0007e-01],\n",
              "                        [-6.5532e-02,  7.8588e-02, -2.3217e-01],\n",
              "                        [-1.0003e-01, -9.5771e-02, -3.4185e-02]],\n",
              "              \n",
              "                       [[ 2.8339e-02,  1.4397e-01, -9.4501e-02],\n",
              "                        [ 2.4449e-03,  1.1718e-01, -1.0719e-01],\n",
              "                        [ 5.4415e-02, -2.1884e-02, -5.2343e-02]],\n",
              "              \n",
              "                       [[ 4.5546e-02,  5.5136e-02, -7.5065e-02],\n",
              "                        [ 1.4169e-01,  2.2675e-01, -1.4498e-01],\n",
              "                        [ 5.0613e-02, -3.9204e-02, -1.1894e-01]]],\n",
              "              \n",
              "              \n",
              "                      [[[-2.0151e-01,  8.0869e-02,  8.1611e-02],\n",
              "                        [-1.2534e-01,  4.6949e-02,  5.0873e-02],\n",
              "                        [-1.0002e-01,  1.5213e-01,  1.3881e-01]],\n",
              "              \n",
              "                       [[-1.6223e-01, -1.0297e-02,  3.8554e-02],\n",
              "                        [-2.0050e-01, -9.1892e-02,  6.5679e-03],\n",
              "                        [-9.9711e-02, -7.5953e-02,  1.9626e-02]],\n",
              "              \n",
              "                       [[-9.4123e-03,  5.6551e-02,  2.1029e-01],\n",
              "                        [-2.3466e-01,  8.9774e-02,  2.1342e-01],\n",
              "                        [-2.2690e-01,  1.1519e-01, -5.2012e-03]],\n",
              "              \n",
              "                       [[-1.3026e-03, -7.1770e-02,  1.9421e-02],\n",
              "                        [-1.6015e-01, -1.3070e-02, -4.9485e-02],\n",
              "                        [-1.0283e-02, -6.9684e-02,  6.1742e-02]],\n",
              "              \n",
              "                       [[-7.9100e-02, -1.4780e-02, -7.4609e-02],\n",
              "                        [ 7.3741e-02, -2.5449e-04,  4.3705e-02],\n",
              "                        [ 2.1791e-02, -3.7819e-05,  2.4302e-02]],\n",
              "              \n",
              "                       [[ 8.2767e-02,  2.3506e-02, -5.6898e-02],\n",
              "                        [-6.8937e-02,  3.5245e-02, -1.8054e-01],\n",
              "                        [-4.1947e-02, -6.4659e-02, -1.6882e-01]],\n",
              "              \n",
              "                       [[ 5.4729e-02,  2.9579e-02,  2.0030e-02],\n",
              "                        [ 4.7719e-02,  9.9972e-02, -4.2235e-02],\n",
              "                        [ 2.4919e-02,  2.7289e-02, -6.9659e-02]],\n",
              "              \n",
              "                       [[-3.3161e-02,  5.2719e-02,  1.9118e-01],\n",
              "                        [-8.1774e-02,  1.2760e-01,  1.0559e-01],\n",
              "                        [-1.0636e-02,  1.1012e-01, -1.5862e-01]],\n",
              "              \n",
              "                       [[ 8.7926e-02, -1.0821e-02,  1.6321e-01],\n",
              "                        [ 3.8330e-03,  5.1456e-02,  1.0954e-01],\n",
              "                        [-9.0562e-02, -3.9963e-02, -3.9307e-02]],\n",
              "              \n",
              "                       [[ 5.0916e-02,  1.3828e-01,  1.0103e-01],\n",
              "                        [-9.1669e-02,  5.8588e-02, -8.4606e-02],\n",
              "                        [-1.1630e-02,  4.7851e-02, -6.0753e-02]]],\n",
              "              \n",
              "              \n",
              "                      [[[-9.2447e-02,  1.6555e-03, -5.3354e-02],\n",
              "                        [-1.5233e-01, -1.3433e-01,  7.2497e-02],\n",
              "                        [ 2.7811e-03, -8.5271e-02, -1.7705e-02]],\n",
              "              \n",
              "                       [[ 1.1532e-01, -7.9189e-02, -1.8336e-03],\n",
              "                        [ 1.5114e-01, -1.4459e-01,  2.0507e-01],\n",
              "                        [ 3.1836e-01, -1.7432e-01, -4.4334e-03]],\n",
              "              \n",
              "                       [[ 1.3016e-02,  5.4185e-02, -1.6131e-01],\n",
              "                        [ 1.3473e-02,  2.1109e-01, -8.8085e-02],\n",
              "                        [-2.7633e-01,  1.0307e-02, -1.8118e-01]],\n",
              "              \n",
              "                       [[ 4.7197e-03, -4.1184e-03, -2.0929e-01],\n",
              "                        [ 3.2945e-02, -1.0573e-01, -1.0792e-01],\n",
              "                        [-4.4860e-02, -1.5468e-01,  1.5769e-01]],\n",
              "              \n",
              "                       [[-5.4521e-02, -5.8538e-02, -4.3164e-02],\n",
              "                        [ 4.9569e-02, -1.1694e-02,  3.9618e-02],\n",
              "                        [ 4.8479e-02, -1.3560e-02,  7.5777e-02]],\n",
              "              \n",
              "                       [[ 3.0098e-02,  1.4508e-01,  3.8025e-02],\n",
              "                        [-7.7732e-02,  4.3216e-02,  2.7059e-02],\n",
              "                        [-1.0142e-01, -4.5000e-02,  5.2686e-02]],\n",
              "              \n",
              "                       [[ 1.7328e-01,  1.9509e-01, -7.8005e-02],\n",
              "                        [-1.4914e-01,  4.3320e-01, -2.0738e-01],\n",
              "                        [-3.8218e-01, -2.9649e-02, -2.7883e-01]],\n",
              "              \n",
              "                       [[-1.9658e-01,  4.4911e-01, -1.6911e-01],\n",
              "                        [-2.7863e-01,  4.0977e-01, -1.1289e-02],\n",
              "                        [-3.1422e-01, -1.9627e-01,  9.2488e-02]],\n",
              "              \n",
              "                       [[-2.7090e-01,  1.3417e-01,  3.2924e-02],\n",
              "                        [-1.1214e-01, -1.7579e-01,  1.9306e-01],\n",
              "                        [-2.1896e-02, -2.7058e-01,  7.2719e-02]],\n",
              "              \n",
              "                       [[-1.1407e-02,  1.0188e-01,  4.4813e-02],\n",
              "                        [-1.2610e-01,  1.8341e-01, -4.1682e-02],\n",
              "                        [-9.7074e-02, -5.2737e-02,  1.2582e-01]]],\n",
              "              \n",
              "              \n",
              "                      [[[-9.8481e-02,  2.9256e-02, -5.8514e-02],\n",
              "                        [ 2.8274e-02, -2.9624e-01, -4.5277e-03],\n",
              "                        [ 4.4562e-02, -7.3934e-02,  1.6902e-01]],\n",
              "              \n",
              "                       [[-3.3265e-01, -4.1743e-02, -8.5647e-02],\n",
              "                        [-3.7238e-02, -2.9870e-01,  4.6092e-02],\n",
              "                        [ 8.6867e-02, -2.7776e-02,  3.1987e-01]],\n",
              "              \n",
              "                       [[-3.8857e-02, -2.4446e-01, -1.4124e-01],\n",
              "                        [-3.5658e-01, -3.0964e-01,  1.4592e-01],\n",
              "                        [-2.9233e-01, -1.9008e-01, -1.5208e-01]],\n",
              "              \n",
              "                       [[-1.3885e-02, -7.1890e-02, -1.0597e-01],\n",
              "                        [-4.1063e-02, -8.8713e-02, -2.2503e-01],\n",
              "                        [-2.4362e-01, -1.2267e-02, -9.1063e-02]],\n",
              "              \n",
              "                       [[-6.7992e-02,  5.3024e-02, -1.1670e-01],\n",
              "                        [ 6.1561e-02, -1.1367e-01,  8.9722e-02],\n",
              "                        [-4.4390e-02, -5.9469e-02,  1.9118e-02]],\n",
              "              \n",
              "                       [[ 8.4457e-03,  2.4065e-01, -1.8014e-02],\n",
              "                        [ 3.0949e-02,  6.4782e-02, -3.8763e-02],\n",
              "                        [-9.6768e-02, -3.7161e-02, -2.3014e-01]],\n",
              "              \n",
              "                       [[-6.5026e-02, -2.7841e-01,  2.6614e-01],\n",
              "                        [-2.9915e-01, -2.1058e-01,  3.5666e-01],\n",
              "                        [-3.0550e-01,  5.1282e-02, -1.1792e-01]],\n",
              "              \n",
              "                       [[ 1.4545e-01,  1.1937e-02,  9.4628e-02],\n",
              "                        [-1.4670e-01, -2.8569e-01,  1.2236e-01],\n",
              "                        [-2.4524e-03,  3.2729e-02, -2.6557e-01]],\n",
              "              \n",
              "                       [[-1.1616e-02, -7.5633e-02, -1.5864e-01],\n",
              "                        [-6.0307e-02, -8.3168e-02, -3.1680e-02],\n",
              "                        [-6.4427e-02, -1.7375e-01,  4.3506e-02]],\n",
              "              \n",
              "                       [[-1.2107e-01, -2.9563e-02,  1.6788e-01],\n",
              "                        [-2.2386e-01, -1.4034e-01,  1.7107e-01],\n",
              "                        [-1.4867e-01, -2.2319e-02,  1.2884e-01]]],\n",
              "              \n",
              "              \n",
              "                      [[[ 3.1827e-01,  4.0431e-02, -1.8594e-02],\n",
              "                        [ 1.1591e-01, -1.5765e-01, -1.6336e-01],\n",
              "                        [-6.2459e-02,  1.2539e-01, -1.9613e-02]],\n",
              "              \n",
              "                       [[ 2.1607e-01,  1.5949e-01,  1.0207e-01],\n",
              "                        [ 1.0025e-02,  9.8797e-02, -2.0995e-03],\n",
              "                        [-2.7094e-02,  1.6719e-01, -8.2168e-02]],\n",
              "              \n",
              "                       [[-9.6741e-03, -1.5623e-01, -1.3016e-02],\n",
              "                        [ 9.4722e-02,  8.2876e-02,  1.3857e-01],\n",
              "                        [ 1.0210e-01,  2.1561e-01,  3.5361e-02]],\n",
              "              \n",
              "                       [[-2.3963e-02, -7.8526e-02, -1.8259e-01],\n",
              "                        [ 2.1774e-01,  7.5351e-02, -5.7592e-02],\n",
              "                        [ 1.5564e-01,  2.0793e-02, -2.0143e-01]],\n",
              "              \n",
              "                       [[ 6.5676e-02,  4.9740e-02, -8.9301e-02],\n",
              "                        [ 8.0567e-02,  8.1050e-03,  4.5774e-02],\n",
              "                        [ 3.5039e-02, -4.9107e-02,  5.9663e-02]],\n",
              "              \n",
              "                       [[-3.6995e-02,  1.4986e-01,  1.0197e-01],\n",
              "                        [ 7.1114e-03, -2.9519e-02, -5.6504e-02],\n",
              "                        [ 1.5339e-01, -1.9603e-01,  2.0001e-02]],\n",
              "              \n",
              "                       [[-3.4010e-01,  2.3939e-01,  1.3216e-01],\n",
              "                        [-1.7904e-01,  1.0553e-01,  3.1552e-01],\n",
              "                        [ 1.1139e-01, -5.0617e-02, -2.7067e-01]],\n",
              "              \n",
              "                       [[-4.8572e-01,  4.2580e-02,  2.9354e-01],\n",
              "                        [-1.6736e-01,  1.7308e-01,  3.4730e-01],\n",
              "                        [ 7.3610e-02,  2.9988e-02, -1.7183e-01]],\n",
              "              \n",
              "                       [[-1.1453e-01, -1.8205e-01,  1.7907e-01],\n",
              "                        [-3.0893e-03,  1.7034e-02,  1.1543e-01],\n",
              "                        [ 1.6909e-02,  1.0259e-01,  1.0026e-01]],\n",
              "              \n",
              "                       [[-2.0513e-01,  3.9316e-02,  1.9637e-01],\n",
              "                        [-1.8557e-01,  3.3818e-02,  2.0570e-01],\n",
              "                        [-2.5292e-01,  7.1895e-02,  1.4018e-01]]],\n",
              "              \n",
              "              \n",
              "                      [[[ 1.8792e-01,  1.5986e-01, -3.8133e-02],\n",
              "                        [-8.4577e-02, -3.3867e-01, -2.6415e-01],\n",
              "                        [ 2.4027e-01, -1.2048e-01, -7.7754e-03]],\n",
              "              \n",
              "                       [[ 4.2007e-02,  3.4306e-01,  1.1555e-02],\n",
              "                        [ 8.3427e-03, -2.6266e-01, -3.4877e-01],\n",
              "                        [ 2.3156e-01, -1.0661e-01, -2.4770e-01]],\n",
              "              \n",
              "                       [[ 2.6212e-01,  1.4049e-01,  1.1902e-02],\n",
              "                        [ 9.6390e-02, -5.1236e-02,  1.9333e-01],\n",
              "                        [ 3.0982e-01, -1.1892e-01,  1.0241e-01]],\n",
              "              \n",
              "                       [[ 2.3275e-02, -4.5432e-02, -4.3057e-02],\n",
              "                        [-1.0907e-02, -1.3289e-01, -5.0088e-02],\n",
              "                        [ 1.2969e-01, -1.8765e-01, -1.4318e-03]],\n",
              "              \n",
              "                       [[ 1.0353e-01, -6.2697e-02, -6.4166e-02],\n",
              "                        [-6.0303e-02,  3.2093e-02,  7.7064e-02],\n",
              "                        [-9.6315e-02, -3.8199e-02, -8.7027e-02]],\n",
              "              \n",
              "                       [[ 1.2669e-01,  2.6456e-01,  6.0273e-02],\n",
              "                        [-2.1062e-02,  1.0861e-01,  8.7993e-02],\n",
              "                        [-1.7914e-01, -1.5577e-01, -1.9389e-01]],\n",
              "              \n",
              "                       [[ 8.0578e-02,  1.8750e-01,  2.8276e-02],\n",
              "                        [ 5.4491e-03,  1.3391e-01,  2.1304e-01],\n",
              "                        [ 1.9040e-02,  1.5248e-02,  8.8371e-02]],\n",
              "              \n",
              "                       [[ 7.9623e-02,  3.1154e-01,  2.9131e-01],\n",
              "                        [-2.2485e-02,  1.7087e-01,  3.2635e-01],\n",
              "                        [-1.3947e-01, -2.1219e-01, -7.4087e-02]],\n",
              "              \n",
              "                       [[-3.2412e-02,  4.9575e-02,  7.5606e-02],\n",
              "                        [-1.2064e-01,  3.6512e-03,  4.2277e-02],\n",
              "                        [ 1.0064e-01, -3.8586e-02,  9.1632e-02]],\n",
              "              \n",
              "                       [[-3.0456e-03,  3.4713e-02,  2.2528e-01],\n",
              "                        [-8.0457e-02, -9.6255e-02,  2.2707e-01],\n",
              "                        [-1.2091e-01,  8.1560e-03, -6.2645e-02]]],\n",
              "              \n",
              "              \n",
              "                      [[[-1.9130e-01,  2.7494e-01, -1.2250e-01],\n",
              "                        [-4.9557e-01,  4.3488e-01,  6.1439e-01],\n",
              "                        [-3.1882e-01, -3.0165e-01, -2.9751e-02]],\n",
              "              \n",
              "                       [[-3.0539e-01,  2.8102e-01, -7.1503e-02],\n",
              "                        [-2.3662e-01,  3.1717e-01,  5.1466e-01],\n",
              "                        [-1.8673e-01,  6.4786e-02, -2.2492e-01]],\n",
              "              \n",
              "                       [[ 1.2101e-01,  2.4774e-01,  1.8597e-01],\n",
              "                        [-6.8832e-03,  4.0860e-01,  2.7732e-02],\n",
              "                        [ 3.6150e-03, -2.8337e-01, -7.5938e-02]],\n",
              "              \n",
              "                       [[ 1.1468e-01, -2.7196e-03,  1.0166e-01],\n",
              "                        [ 1.6158e-02,  2.3490e-01,  2.9346e-02],\n",
              "                        [-1.5069e-01, -2.1415e-01, -1.1947e-02]],\n",
              "              \n",
              "                       [[-1.2765e-02,  3.0951e-03, -2.0560e-02],\n",
              "                        [-1.2383e-01, -1.3551e-01, -1.8368e-02],\n",
              "                        [ 3.1879e-02,  4.4490e-02, -1.2340e-01]],\n",
              "              \n",
              "                       [[-4.8841e-01, -3.8249e-01, -1.7264e-01],\n",
              "                        [-1.1380e-02, -1.4719e-01, -1.4206e-01],\n",
              "                        [-1.1802e-01,  1.8116e-01,  4.8554e-02]],\n",
              "              \n",
              "                       [[-2.8708e-02, -3.9859e-02, -3.6983e-01],\n",
              "                        [ 2.2961e-01,  3.9176e-01, -4.0916e-01],\n",
              "                        [-7.5844e-02,  8.5676e-02, -7.6825e-02]],\n",
              "              \n",
              "                       [[-7.5952e-02, -2.6415e-02, -3.9973e-01],\n",
              "                        [ 4.9497e-02,  2.5898e-01, -2.7465e-01],\n",
              "                        [-6.4313e-02, -6.4155e-02, -1.4238e-01]],\n",
              "              \n",
              "                       [[ 2.2891e-02,  1.0210e-01, -1.1386e-01],\n",
              "                        [-9.7295e-02,  2.4953e-01, -6.8987e-02],\n",
              "                        [ 1.1132e-01, -1.1340e-01,  8.3358e-02]],\n",
              "              \n",
              "                       [[-8.8156e-02,  2.8453e-01, -7.6276e-02],\n",
              "                        [ 3.4265e-02,  4.4620e-01, -3.1075e-01],\n",
              "                        [ 6.8792e-02,  2.4039e-01, -1.4671e-01]]],\n",
              "              \n",
              "              \n",
              "                      [[[-2.3633e-01, -3.4504e-01, -2.2574e-01],\n",
              "                        [ 1.6449e-01, -3.3710e-01, -4.5994e-01],\n",
              "                        [ 2.0651e-01,  1.4592e-01,  2.2869e-01]],\n",
              "              \n",
              "                       [[ 1.1596e-02, -4.9981e-01, -1.2976e-01],\n",
              "                        [ 2.7046e-01, -3.5233e-01, -4.0699e-01],\n",
              "                        [ 3.0963e-01,  2.5106e-01,  2.4569e-01]],\n",
              "              \n",
              "                       [[-2.0719e-01,  2.9136e-02,  9.5100e-03],\n",
              "                        [ 1.4452e-01, -3.5524e-01,  2.7971e-01],\n",
              "                        [ 1.9148e-01, -1.5498e-01, -5.8320e-02]],\n",
              "              \n",
              "                       [[-2.0878e-01, -7.4960e-02, -1.0598e-01],\n",
              "                        [ 1.3632e-01,  6.9962e-02, -3.5578e-03],\n",
              "                        [-1.9779e-01, -1.5202e-01, -1.7628e-01]],\n",
              "              \n",
              "                       [[-9.4868e-02,  1.0843e-02, -1.0356e-01],\n",
              "                        [ 8.3063e-02,  6.6425e-02, -8.7051e-02],\n",
              "                        [-2.9107e-03,  8.0329e-02,  7.8093e-02]],\n",
              "              \n",
              "                       [[-1.2744e-01,  4.1424e-01,  2.1468e-01],\n",
              "                        [ 3.5188e-03,  1.0437e-01, -9.0558e-02],\n",
              "                        [-1.5986e-01, -1.9073e-01, -1.3017e-01]],\n",
              "              \n",
              "                       [[-2.2749e-01,  3.1210e-03,  1.9861e-01],\n",
              "                        [-1.6261e-01, -1.3253e-01,  3.7081e-01],\n",
              "                        [-1.3867e-01, -5.5890e-02, -8.1444e-02]],\n",
              "              \n",
              "                       [[-2.1287e-01,  7.3428e-02,  3.1605e-01],\n",
              "                        [ 1.1877e-01, -2.6764e-01,  4.9334e-02],\n",
              "                        [ 2.6123e-01, -1.6260e-01, -1.5432e-01]],\n",
              "              \n",
              "                       [[ 1.1392e-01,  4.2169e-02, -2.0152e-02],\n",
              "                        [ 1.9119e-02, -2.2055e-01, -2.0070e-01],\n",
              "                        [ 2.4663e-01, -5.2569e-02,  9.3290e-02]],\n",
              "              \n",
              "                       [[-1.0234e-01, -1.0711e-01,  8.1848e-02],\n",
              "                        [-2.7249e-02, -3.5966e-01,  6.7386e-02],\n",
              "                        [-1.7688e-01, -1.1117e-01,  5.8310e-03]]],\n",
              "              \n",
              "              \n",
              "                      [[[-1.9330e-01,  1.2775e-02, -8.2218e-02],\n",
              "                        [-2.9236e-02,  2.0647e-01, -9.1126e-02],\n",
              "                        [ 1.3137e-01,  2.2009e-01, -8.3271e-02]],\n",
              "              \n",
              "                       [[-1.7454e-01,  1.8766e-01, -2.9322e-01],\n",
              "                        [-3.0529e-02,  4.3173e-01, -1.7019e-01],\n",
              "                        [-2.4009e-03,  1.6348e-01, -1.4018e-01]],\n",
              "              \n",
              "                       [[ 1.2970e-01, -7.6490e-02, -6.3315e-02],\n",
              "                        [ 2.4108e-01, -7.5087e-02, -1.8501e-01],\n",
              "                        [-1.8395e-01, -1.5429e-02, -1.7539e-02]],\n",
              "              \n",
              "                       [[-2.8854e-02, -6.1893e-02, -3.4253e-02],\n",
              "                        [-2.7752e-02, -9.6626e-03,  4.8660e-03],\n",
              "                        [-2.2089e-01, -1.7349e-01, -1.7837e-02]],\n",
              "              \n",
              "                       [[ 4.5238e-02,  5.1942e-02, -7.2616e-02],\n",
              "                        [ 5.9903e-02, -3.7481e-02,  7.2491e-02],\n",
              "                        [ 3.3398e-02,  5.1946e-02, -5.3626e-02]],\n",
              "              \n",
              "                       [[-8.0175e-02, -4.6417e-03,  6.7832e-02],\n",
              "                        [-3.5825e-02, -1.3027e-01, -3.5134e-02],\n",
              "                        [-2.0508e-01, -2.5141e-01, -7.7635e-02]],\n",
              "              \n",
              "                       [[ 2.1849e-01, -1.8337e-02, -4.2481e-02],\n",
              "                        [ 4.6962e-02, -2.3424e-01,  6.9413e-03],\n",
              "                        [-5.8432e-02, -1.0296e-01,  4.7273e-02]],\n",
              "              \n",
              "                       [[ 2.5849e-01,  9.7361e-02,  3.8554e-02],\n",
              "                        [-7.1986e-02,  1.6807e-01,  7.6022e-02],\n",
              "                        [-1.3807e-01,  9.8093e-02,  5.5137e-02]],\n",
              "              \n",
              "                       [[-8.9624e-02, -1.2863e-02,  1.0238e-01],\n",
              "                        [-2.9983e-03,  1.7722e-01, -7.0534e-02],\n",
              "                        [-1.5726e-04,  3.6911e-02,  3.7345e-02]],\n",
              "              \n",
              "                       [[-1.0418e-02,  1.3688e-01,  8.3407e-02],\n",
              "                        [ 3.4231e-02,  7.8968e-02, -6.2681e-02],\n",
              "                        [-2.2051e-02,  1.2724e-01, -5.8926e-02]]]])),\n",
              "             ('conv_block2.0.bias',\n",
              "              tensor([-0.0842,  0.0472, -0.1932,  0.1911,  0.9452, -0.1370, -0.3133,  0.2814,\n",
              "                       0.4429, -0.0219])),\n",
              "             ('conv_block2.2.weight',\n",
              "              tensor([[[[-2.1095e-02, -8.7885e-02, -7.6118e-02],\n",
              "                        [-1.6339e-01, -7.8533e-02, -4.9278e-03],\n",
              "                        [-4.8286e-02, -7.5160e-02, -1.0326e-03]],\n",
              "              \n",
              "                       [[ 2.2590e-02,  2.9327e-02, -1.4723e-02],\n",
              "                        [-8.1574e-02, -6.0515e-02, -1.1201e-01],\n",
              "                        [-1.0316e-01,  1.0447e-01,  1.3433e-01]],\n",
              "              \n",
              "                       [[-1.3494e-02, -6.0064e-02, -9.9628e-02],\n",
              "                        [-1.9737e-01, -8.7114e-02, -5.3626e-02],\n",
              "                        [-1.8796e-01, -2.6222e-01, -9.5701e-02]],\n",
              "              \n",
              "                       [[-7.7138e-02, -7.3127e-02, -8.3659e-02],\n",
              "                        [-4.1898e-02,  6.5296e-02, -1.7121e-01],\n",
              "                        [-9.9589e-02,  2.3931e-01, -2.5343e-01]],\n",
              "              \n",
              "                       [[ 2.1394e-02, -4.3045e-02, -9.4585e-02],\n",
              "                        [ 9.6037e-02, -2.9818e-01, -1.9330e-01],\n",
              "                        [-1.7723e-01, -1.2797e-01, -1.1525e-01]],\n",
              "              \n",
              "                       [[-4.2703e-02, -8.7575e-02, -1.0243e-01],\n",
              "                        [ 1.8930e-01,  1.4767e-01, -1.9017e-02],\n",
              "                        [ 1.8528e-02,  1.8092e-01, -1.9382e-01]],\n",
              "              \n",
              "                       [[-2.3538e-01, -2.1934e-01,  2.9044e-01],\n",
              "                        [-2.2123e-01, -5.6834e-02,  1.5190e-01],\n",
              "                        [-3.6876e-01, -1.2002e-01, -1.6287e-01]],\n",
              "              \n",
              "                       [[-3.4602e-01, -1.0743e-01, -4.8478e-02],\n",
              "                        [-3.4410e-01,  6.7638e-02,  5.3721e-02],\n",
              "                        [-2.9343e-01,  4.5353e-01, -1.4721e-01]],\n",
              "              \n",
              "                       [[ 4.1362e-02, -1.0900e-01, -1.1648e-01],\n",
              "                        [ 8.0345e-02, -2.0216e-01,  7.3738e-02],\n",
              "                        [-1.8508e-01, -1.8243e-01,  5.1927e-02]],\n",
              "              \n",
              "                       [[-4.2530e-02,  6.9900e-02,  1.1925e-01],\n",
              "                        [-1.5709e-01,  5.4578e-02,  2.5082e-01],\n",
              "                        [-7.6267e-02,  9.9148e-02,  3.1196e-01]]],\n",
              "              \n",
              "              \n",
              "                      [[[-1.9970e-02, -1.1628e-02, -1.6681e-01],\n",
              "                        [-7.7290e-02,  3.6083e-02, -2.0313e-02],\n",
              "                        [-7.3221e-04,  1.1270e-01, -1.6996e-01]],\n",
              "              \n",
              "                       [[ 1.2288e-01, -6.7987e-02, -4.1425e-02],\n",
              "                        [ 4.5608e-02, -1.1249e-01, -7.4772e-02],\n",
              "                        [ 9.5379e-02,  1.8218e-02, -9.4638e-02]],\n",
              "              \n",
              "                       [[-5.8373e-02,  6.2297e-02, -8.0323e-02],\n",
              "                        [ 5.2899e-03, -8.3355e-02,  3.4321e-02],\n",
              "                        [-5.6664e-02, -1.1463e-01,  2.2790e-02]],\n",
              "              \n",
              "                       [[ 1.7769e-02,  4.1329e-02, -6.1286e-02],\n",
              "                        [-1.6784e-01,  9.0505e-02,  1.2817e-01],\n",
              "                        [-2.4572e-01, -9.1585e-02, -3.4820e-02]],\n",
              "              \n",
              "                       [[-6.7323e-02,  1.2978e-02,  3.1966e-01],\n",
              "                        [-5.2414e-02,  4.2407e-01,  1.5044e-01],\n",
              "                        [-1.2800e-01,  1.8248e-01,  2.3367e-01]],\n",
              "              \n",
              "                       [[-1.0565e-01, -9.1008e-02,  8.5710e-02],\n",
              "                        [ 1.3047e-02,  1.4743e-01,  1.0965e-01],\n",
              "                        [-1.9976e-01, -1.2570e-01, -1.4405e-02]],\n",
              "              \n",
              "                       [[ 6.2771e-02,  2.3582e-02,  1.0693e-01],\n",
              "                        [-7.4071e-02, -4.1892e-02, -2.9493e-01],\n",
              "                        [-1.8252e-01, -9.5991e-02, -4.0999e-01]],\n",
              "              \n",
              "                       [[-1.6932e-01, -2.0861e-01, -2.4405e-01],\n",
              "                        [-5.1580e-01, -4.2418e-01,  5.6207e-02],\n",
              "                        [ 8.5712e-02, -4.2662e-01,  1.7207e-01]],\n",
              "              \n",
              "                       [[-9.7037e-02,  5.6500e-02,  1.9582e-01],\n",
              "                        [ 4.8481e-01,  4.8123e-01, -2.5333e-01],\n",
              "                        [-1.1507e-01, -4.3702e-02, -2.0994e-01]],\n",
              "              \n",
              "                       [[-8.9073e-02,  4.9347e-03,  3.6712e-02],\n",
              "                        [ 4.5355e-02, -7.2868e-02, -3.8018e-02],\n",
              "                        [ 4.3849e-02, -1.3055e-01,  8.0775e-02]]],\n",
              "              \n",
              "              \n",
              "                      [[[ 3.7176e-03,  8.2545e-03,  4.2612e-02],\n",
              "                        [-6.3465e-02,  8.4821e-02,  2.1858e-01],\n",
              "                        [ 1.5902e-02, -3.9653e-02,  5.7759e-02]],\n",
              "              \n",
              "                       [[-9.5858e-02,  6.8582e-02,  1.8274e-01],\n",
              "                        [ 7.6171e-02,  6.3601e-02, -1.3210e-01],\n",
              "                        [-1.1334e-02, -2.4854e-02,  1.8436e-02]],\n",
              "              \n",
              "                       [[-1.2090e-01, -6.9248e-02,  4.9451e-02],\n",
              "                        [-6.1475e-02,  5.5541e-02,  6.4415e-02],\n",
              "                        [ 4.7872e-02,  6.6327e-02,  7.4367e-02]],\n",
              "              \n",
              "                       [[-1.0285e-01,  2.3062e-01,  1.0893e-02],\n",
              "                        [-4.1927e-01, -1.3467e-01,  2.0802e-01],\n",
              "                        [-2.4023e-01, -2.3470e-01,  3.4777e-02]],\n",
              "              \n",
              "                       [[ 6.4666e-02, -6.9935e-02, -6.8833e-02],\n",
              "                        [-2.0636e-01,  1.2679e-01,  7.0746e-02],\n",
              "                        [-7.1055e-02,  2.4017e-02,  8.0354e-02]],\n",
              "              \n",
              "                       [[ 9.4818e-02, -1.0955e-01, -2.5163e-01],\n",
              "                        [-2.2707e-02,  7.7817e-02,  2.0778e-01],\n",
              "                        [-8.9294e-02, -6.7911e-02, -4.8020e-03]],\n",
              "              \n",
              "                       [[ 9.5613e-02,  8.2409e-02,  6.0484e-02],\n",
              "                        [ 1.6076e-01,  2.3338e-01, -5.6233e-02],\n",
              "                        [-1.2892e-01, -1.1337e-01, -9.7978e-02]],\n",
              "              \n",
              "                       [[-2.2076e-01,  2.5673e-02,  3.0523e-01],\n",
              "                        [-3.1513e-01, -2.7820e-01, -1.7392e-01],\n",
              "                        [-2.6234e-01, -2.2581e-01,  2.0715e-02]],\n",
              "              \n",
              "                       [[ 1.6578e-01, -3.3150e-01, -3.0590e-01],\n",
              "                        [ 1.5898e-01,  2.7681e-01,  1.7367e-03],\n",
              "                        [-2.2086e-01,  3.7346e-01, -4.5305e-02]],\n",
              "              \n",
              "                       [[-2.0126e-01,  3.8937e-02, -5.7887e-02],\n",
              "                        [ 3.0325e-02, -1.2772e-01, -1.4153e-01],\n",
              "                        [ 2.1946e-01, -1.1312e-02,  2.1209e-02]]],\n",
              "              \n",
              "              \n",
              "                      [[[ 2.6235e-01,  1.6018e-02,  4.4914e-02],\n",
              "                        [ 2.7344e-01,  2.4736e-01,  7.4500e-02],\n",
              "                        [-3.4898e-02,  1.7845e-01,  6.7515e-02]],\n",
              "              \n",
              "                       [[-1.8324e-02,  1.4274e-01, -1.2069e-01],\n",
              "                        [-9.0071e-02,  9.5819e-02, -7.8811e-02],\n",
              "                        [ 8.5107e-02, -1.7404e-01,  8.5039e-02]],\n",
              "              \n",
              "                       [[ 7.2619e-02,  1.6021e-01,  4.6300e-02],\n",
              "                        [ 3.1057e-02,  1.2770e-02,  8.4832e-02],\n",
              "                        [-1.6089e-01, -1.1941e-02,  1.5039e-02]],\n",
              "              \n",
              "                       [[ 1.7294e-01,  1.1440e-01, -5.8038e-02],\n",
              "                        [-1.9898e-01,  1.9761e-01, -1.6884e-01],\n",
              "                        [-4.3579e-01,  8.0987e-02,  3.1481e-02]],\n",
              "              \n",
              "                       [[-1.0774e-01, -1.7374e-01,  2.5276e-02],\n",
              "                        [-2.0285e-01, -8.4401e-02,  5.0591e-02],\n",
              "                        [ 1.7946e-02,  1.5424e-02,  3.8687e-02]],\n",
              "              \n",
              "                       [[ 1.0033e-01,  9.2777e-02,  1.5904e-01],\n",
              "                        [-1.0793e-01, -2.5172e-01,  1.2421e-01],\n",
              "                        [-1.8368e-01, -4.0746e-02, -1.4726e-01]],\n",
              "              \n",
              "                       [[ 1.2519e-01, -1.6055e-01,  5.5972e-02],\n",
              "                        [ 8.2559e-02, -1.5648e-01,  2.5981e-01],\n",
              "                        [-1.9396e-01, -3.5281e-02, -2.3929e-01]],\n",
              "              \n",
              "                       [[-9.0176e-02,  1.7385e-01, -3.2993e-01],\n",
              "                        [-2.5099e-01,  2.8617e-01, -2.5397e-01],\n",
              "                        [-3.3807e-01, -3.9568e-01,  2.5342e-01]],\n",
              "              \n",
              "                       [[ 2.4348e-01, -2.3845e-01,  2.4221e-01],\n",
              "                        [ 1.3110e-01, -1.0981e-01, -1.8027e-02],\n",
              "                        [ 1.9742e-01,  6.2712e-02, -4.8425e-02]],\n",
              "              \n",
              "                       [[-1.1334e-01,  2.1527e-01,  7.5892e-02],\n",
              "                        [ 1.2698e-01,  9.5192e-02,  1.1362e-01],\n",
              "                        [-1.5670e-01, -1.1173e-01,  7.6929e-02]]],\n",
              "              \n",
              "              \n",
              "                      [[[-2.9488e-02, -6.0799e-02, -1.3133e-01],\n",
              "                        [-1.1620e-01, -6.3073e-02, -1.8409e-01],\n",
              "                        [ 3.6211e-02,  1.4029e-01, -9.1476e-02]],\n",
              "              \n",
              "                       [[-3.4661e-02, -2.6994e-02, -1.2751e-01],\n",
              "                        [-9.1637e-03, -1.2741e-01, -1.3149e-01],\n",
              "                        [ 4.2130e-02,  1.3964e-01,  5.2112e-02]],\n",
              "              \n",
              "                       [[ 8.9045e-02, -7.7070e-02,  1.7474e-02],\n",
              "                        [-3.5902e-02,  9.3625e-02, -1.0259e-01],\n",
              "                        [-1.6738e-02, -7.3951e-03,  4.8116e-02]],\n",
              "              \n",
              "                       [[-1.8085e-01, -1.4968e-01,  1.3210e-01],\n",
              "                        [-1.0250e-01,  1.7829e-01, -9.4280e-02],\n",
              "                        [-5.1719e-02,  6.3359e-02,  6.0305e-03]],\n",
              "              \n",
              "                       [[-1.8332e-01,  3.4939e-01,  3.2480e-01],\n",
              "                        [ 4.7605e-02, -2.4060e-01, -2.7730e-01],\n",
              "                        [ 1.2620e-01, -1.7728e-01, -3.3154e-01]],\n",
              "              \n",
              "                       [[ 7.5836e-02, -4.1070e-02,  2.5875e-01],\n",
              "                        [ 1.9467e-01,  2.0226e-01, -4.4812e-03],\n",
              "                        [ 3.1546e-02, -2.6627e-02, -4.1267e-01]],\n",
              "              \n",
              "                       [[-6.9585e-02,  1.2426e-01,  1.3588e-01],\n",
              "                        [-9.8067e-02, -1.2604e-01, -2.7371e-02],\n",
              "                        [-1.7675e-01, -6.5451e-02, -1.4018e-01]],\n",
              "              \n",
              "                       [[-4.8897e-01, -5.5652e-01, -6.1964e-01],\n",
              "                        [ 2.2471e-01, -4.8579e-02, -2.6535e-01],\n",
              "                        [ 3.8773e-01,  2.5876e-01,  5.2983e-01]],\n",
              "              \n",
              "                       [[-2.6307e-01,  3.8642e-01,  4.2743e-01],\n",
              "                        [-2.1513e-01, -5.0909e-01, -8.1431e-02],\n",
              "                        [-1.3888e-01, -2.5369e-01, -2.5818e-01]],\n",
              "              \n",
              "                       [[ 7.7198e-03,  7.9832e-02, -2.0939e-01],\n",
              "                        [-1.6473e-01, -5.2773e-02,  2.0115e-02],\n",
              "                        [ 1.2968e-01, -3.7275e-03,  2.0656e-01]]],\n",
              "              \n",
              "              \n",
              "                      [[[-6.1373e-02, -3.6112e-02,  2.0960e-01],\n",
              "                        [-1.6451e-02, -3.6277e-02,  8.0676e-02],\n",
              "                        [ 2.3727e-01, -4.1457e-02, -1.1309e-01]],\n",
              "              \n",
              "                       [[ 5.9598e-02, -1.9972e-02, -4.8915e-02],\n",
              "                        [-5.1809e-02, -1.2724e-02,  4.3320e-02],\n",
              "                        [-1.3116e-01,  8.8953e-02,  3.6605e-02]],\n",
              "              \n",
              "                       [[ 8.4682e-02,  1.0412e-01, -5.0045e-02],\n",
              "                        [ 4.3566e-02,  5.7355e-02, -4.2163e-02],\n",
              "                        [-2.5311e-02,  1.2907e-01, -1.5736e-01]],\n",
              "              \n",
              "                       [[ 3.7879e-03, -4.9852e-01,  4.1359e-01],\n",
              "                        [ 1.3726e-01,  1.1919e-02, -1.1318e-01],\n",
              "                        [ 1.1852e-01,  3.0002e-01, -2.4425e-01]],\n",
              "              \n",
              "                       [[-2.3304e-01,  5.3409e-02,  1.8998e-01],\n",
              "                        [-4.0416e-02, -7.7701e-02, -1.7640e-01],\n",
              "                        [ 2.4125e-01,  5.4015e-02, -8.5144e-02]],\n",
              "              \n",
              "                       [[-2.7889e-01,  2.8442e-01,  1.8640e-01],\n",
              "                        [ 2.0533e-01,  8.8299e-02,  2.5532e-02],\n",
              "                        [ 1.2725e-01, -1.1638e-01, -2.3785e-01]],\n",
              "              \n",
              "                       [[-1.1214e-01,  3.1505e-01,  1.3397e-01],\n",
              "                        [ 2.2071e-01, -3.6988e-02, -2.3274e-01],\n",
              "                        [ 1.0570e-01, -2.7200e-01, -1.0450e-01]],\n",
              "              \n",
              "                       [[ 5.0977e-01, -3.6057e-01, -2.6442e-01],\n",
              "                        [-1.8870e-01, -3.4323e-01,  1.5217e-01],\n",
              "                        [-4.5650e-01,  2.3489e-01,  2.8027e-02]],\n",
              "              \n",
              "                       [[-2.4366e-01,  2.0398e-01,  6.8443e-02],\n",
              "                        [ 3.1336e-01,  3.0939e-03, -1.2653e-01],\n",
              "                        [ 3.3286e-01, -2.2065e-01,  8.4857e-02]],\n",
              "              \n",
              "                       [[-1.8661e-01, -5.2641e-02, -1.9958e-01],\n",
              "                        [-1.3039e-01, -1.4933e-01,  6.0026e-02],\n",
              "                        [ 4.0411e-02, -8.3871e-02,  1.9245e-01]]],\n",
              "              \n",
              "              \n",
              "                      [[[-1.0468e-01, -4.9485e-03, -1.1542e-01],\n",
              "                        [ 3.8399e-02,  5.9509e-02, -1.4944e-01],\n",
              "                        [ 6.4172e-02, -9.2124e-02, -1.1366e-01]],\n",
              "              \n",
              "                       [[-8.7696e-02, -4.7602e-02, -9.9264e-02],\n",
              "                        [-1.0962e-01, -1.0212e-01, -7.9243e-02],\n",
              "                        [-3.0162e-02,  3.3049e-02,  7.1709e-02]],\n",
              "              \n",
              "                       [[-4.4695e-04, -1.1898e-02, -1.7007e-01],\n",
              "                        [ 8.4243e-02,  1.2591e-02, -7.7273e-02],\n",
              "                        [-5.2407e-02,  7.0555e-02, -2.2848e-03]],\n",
              "              \n",
              "                       [[ 1.1231e-01,  1.5012e-01, -2.8758e-01],\n",
              "                        [-2.3930e-01, -1.1233e-01, -2.7769e-01],\n",
              "                        [-1.1940e-01, -2.1648e-01, -1.3667e-01]],\n",
              "              \n",
              "                       [[ 3.6373e-01, -9.8314e-02,  1.8991e-01],\n",
              "                        [ 5.6987e-02,  1.9628e-01,  3.6996e-01],\n",
              "                        [ 9.5332e-02, -8.6631e-02,  2.7684e-01]],\n",
              "              \n",
              "                       [[-5.8559e-02, -1.4262e-01, -2.4113e-01],\n",
              "                        [ 5.8752e-03, -1.4635e-01, -1.5413e-01],\n",
              "                        [-2.2295e-01,  5.3537e-02,  1.5208e-02]],\n",
              "              \n",
              "                       [[-3.1327e-01,  7.5941e-02,  7.8638e-04],\n",
              "                        [-2.5741e-01,  8.2914e-03, -2.7534e-02],\n",
              "                        [-2.1229e-01,  5.1832e-02, -1.3783e-01]],\n",
              "              \n",
              "                       [[-1.4986e-01, -8.0292e-02, -1.0151e-01],\n",
              "                        [-4.2822e-01, -1.6628e-01, -2.3707e-01],\n",
              "                        [-7.9113e-02, -4.2136e-01, -3.7571e-01]],\n",
              "              \n",
              "                       [[ 2.7184e-01, -2.0837e-01, -7.4200e-02],\n",
              "                        [ 2.5736e-01, -1.0816e-01,  6.1423e-02],\n",
              "                        [ 6.9425e-02,  1.2526e-01,  2.8816e-01]],\n",
              "              \n",
              "                       [[-2.4291e-01, -1.7250e-01, -3.1392e-03],\n",
              "                        [-8.0141e-02, -2.8052e-01, -1.1021e-01],\n",
              "                        [ 3.7606e-02, -1.3327e-01, -1.6289e-01]]],\n",
              "              \n",
              "              \n",
              "                      [[[-8.4521e-02,  5.1714e-02,  1.0942e-01],\n",
              "                        [-5.8412e-02, -1.3456e-01,  1.4184e-01],\n",
              "                        [-9.1786e-03,  3.1716e-02, -7.8745e-02]],\n",
              "              \n",
              "                       [[-6.7943e-02, -4.9071e-02, -6.6782e-03],\n",
              "                        [-5.3862e-02, -1.1856e-01,  4.4968e-03],\n",
              "                        [-1.0832e-01, -6.3507e-02, -1.8245e-01]],\n",
              "              \n",
              "                       [[-2.5320e-02, -3.5809e-02, -4.3367e-02],\n",
              "                        [-1.1051e-01, -1.1699e-01,  4.2655e-02],\n",
              "                        [-3.3956e-02, -4.3534e-02,  5.4796e-02]],\n",
              "              \n",
              "                       [[ 1.5691e-01, -2.5534e-01,  6.2767e-02],\n",
              "                        [ 2.3681e-01, -1.0673e-01, -5.1075e-02],\n",
              "                        [-6.7701e-02,  1.8843e-02, -3.5697e-02]],\n",
              "              \n",
              "                       [[ 2.7266e-02,  7.1873e-02, -7.8158e-02],\n",
              "                        [-3.6793e-02,  1.8138e-01, -7.9884e-02],\n",
              "                        [-1.5016e-01,  1.9629e-01,  2.1825e-01]],\n",
              "              \n",
              "                       [[-9.0877e-02, -1.7601e-01, -9.3964e-02],\n",
              "                        [ 4.6522e-02, -2.0156e-01, -1.6532e-01],\n",
              "                        [ 1.3745e-01, -1.1265e-01,  8.0007e-02]],\n",
              "              \n",
              "                       [[-6.9556e-02,  1.2421e-01, -1.0083e-01],\n",
              "                        [ 5.6925e-02,  1.2498e-01, -3.6197e-01],\n",
              "                        [-8.3219e-02,  7.9634e-02,  1.5946e-01]],\n",
              "              \n",
              "                       [[ 1.8104e-01,  6.4943e-02,  3.2949e-02],\n",
              "                        [-3.4483e-01, -2.9401e-02,  2.4608e-01],\n",
              "                        [-1.0861e-01, -1.9513e-01, -3.5443e-01]],\n",
              "              \n",
              "                       [[-1.0732e-01, -1.8992e-01,  1.1402e-01],\n",
              "                        [ 3.5785e-01, -1.2562e-01, -1.5230e-01],\n",
              "                        [ 7.9452e-02,  1.7344e-01,  1.7268e-02]],\n",
              "              \n",
              "                       [[-1.4270e-01, -2.3620e-02,  1.1393e-01],\n",
              "                        [-1.0023e-01, -1.6040e-01, -7.8125e-04],\n",
              "                        [ 1.2897e-01, -1.3518e-01, -1.3137e-02]]],\n",
              "              \n",
              "              \n",
              "                      [[[-1.0319e-01, -3.8050e-02,  1.1903e-02],\n",
              "                        [-8.5367e-02,  1.4443e-01,  1.4335e-01],\n",
              "                        [ 2.7204e-02, -1.1496e-01,  1.1827e-01]],\n",
              "              \n",
              "                       [[ 5.6197e-02, -4.6848e-02, -4.9377e-02],\n",
              "                        [ 1.1790e-01,  2.2292e-01,  1.7225e-02],\n",
              "                        [-1.3246e-01,  9.5609e-02, -1.0851e-01]],\n",
              "              \n",
              "                       [[-7.4131e-02,  7.9464e-02, -6.6443e-02],\n",
              "                        [-6.1155e-02,  7.5976e-02,  7.1530e-02],\n",
              "                        [-1.4617e-01,  3.7289e-02,  5.1617e-02]],\n",
              "              \n",
              "                       [[-5.1522e-02, -3.8500e-01, -1.3117e-01],\n",
              "                        [ 1.6588e-01, -6.3850e-03, -1.9113e-01],\n",
              "                        [ 4.9860e-02, -2.4077e-01, -2.3691e-01]],\n",
              "              \n",
              "                       [[ 2.4667e-02, -2.2959e-01,  1.9394e-01],\n",
              "                        [ 8.9969e-02, -2.1967e-01, -6.8744e-02],\n",
              "                        [ 4.7794e-02, -1.9587e-01, -2.0001e-01]],\n",
              "              \n",
              "                       [[-2.3935e-01,  2.1232e-01, -7.4568e-02],\n",
              "                        [ 6.2468e-02,  1.4181e-01, -1.5134e-01],\n",
              "                        [ 9.7338e-02, -1.0033e-01, -1.5591e-01]],\n",
              "              \n",
              "                       [[-3.8292e-02, -9.2907e-02, -2.3314e-01],\n",
              "                        [-8.1122e-02, -2.8112e-01, -1.1466e-01],\n",
              "                        [-1.8305e-01, -1.3631e-01, -2.0292e-01]],\n",
              "              \n",
              "                       [[ 6.5566e-02, -1.2030e-01, -2.1648e-01],\n",
              "                        [ 6.4248e-01,  4.0921e-01, -3.2897e-01],\n",
              "                        [ 7.7634e-02,  1.4249e-02, -1.8388e-01]],\n",
              "              \n",
              "                       [[-2.9229e-01, -2.1040e-01,  1.5973e-01],\n",
              "                        [-7.5900e-02, -2.6080e-01,  1.1309e-01],\n",
              "                        [-1.3827e-01, -2.0700e-01, -4.9359e-01]],\n",
              "              \n",
              "                       [[ 6.0228e-02, -2.2203e-02,  5.9620e-02],\n",
              "                        [-2.2558e-01,  3.7229e-02, -3.4735e-02],\n",
              "                        [-4.6509e-03, -2.1991e-01, -1.2694e-01]]],\n",
              "              \n",
              "              \n",
              "                      [[[ 4.8539e-05, -4.6146e-02, -7.9607e-02],\n",
              "                        [ 7.5947e-02,  1.4110e-01, -1.6928e-01],\n",
              "                        [-9.7248e-02, -4.4574e-03, -7.4951e-02]],\n",
              "              \n",
              "                       [[-8.8381e-02, -1.6700e-01, -7.7829e-02],\n",
              "                        [-3.0496e-01, -3.1301e-02, -4.5768e-02],\n",
              "                        [-1.9725e-01,  7.2208e-02,  3.0069e-01]],\n",
              "              \n",
              "                       [[-9.5835e-02, -4.8169e-02, -9.5715e-02],\n",
              "                        [ 1.8444e-02, -1.5027e-01, -7.4597e-02],\n",
              "                        [ 4.9195e-02, -1.8601e-01, -1.2638e-01]],\n",
              "              \n",
              "                       [[ 4.4320e-02, -2.0274e-01, -2.1093e-01],\n",
              "                        [-1.4377e-03,  2.8480e-01,  1.2583e-01],\n",
              "                        [-2.2475e-01,  2.8988e-01,  1.2947e-02]],\n",
              "              \n",
              "                       [[-2.9158e-01,  1.9392e-01, -1.9773e-01],\n",
              "                        [-1.8475e-01, -2.1556e-01, -2.6985e-01],\n",
              "                        [ 1.6542e-01, -1.9957e-01, -1.1195e-01]],\n",
              "              \n",
              "                       [[-1.9570e-01, -1.6778e-01, -8.9959e-02],\n",
              "                        [ 1.6466e-01,  1.3743e-01, -2.7822e-01],\n",
              "                        [ 3.1737e-01,  3.5122e-01, -3.0562e-01]],\n",
              "              \n",
              "                       [[-1.9886e-01, -7.2438e-02, -1.3035e-01],\n",
              "                        [-4.4225e-02,  4.8726e-02,  1.8929e-01],\n",
              "                        [ 1.2719e-01,  1.8587e-01, -1.1119e-01]],\n",
              "              \n",
              "                       [[ 3.3167e-02,  3.4656e-02, -1.2846e-01],\n",
              "                        [-2.0231e-01, -9.5460e-02,  5.4792e-02],\n",
              "                        [-3.2138e-01,  2.5931e-01,  4.1812e-02]],\n",
              "              \n",
              "                       [[ 5.2566e-02, -9.8081e-02, -9.2298e-02],\n",
              "                        [-5.1105e-02, -1.8998e-01, -2.9615e-01],\n",
              "                        [-2.3718e-01,  3.9462e-02, -1.3904e-01]],\n",
              "              \n",
              "                       [[-5.9543e-02,  3.2292e-02, -9.1416e-02],\n",
              "                        [ 8.9294e-02,  3.1766e-01, -2.8164e-01],\n",
              "                        [-7.6649e-02,  5.8663e-03,  1.0196e-01]]]])),\n",
              "             ('conv_block2.2.bias',\n",
              "              tensor([ 0.3527, -0.1151, -0.3224, -0.1910,  0.2223, -0.3532,  0.0532, -0.0845,\n",
              "                       0.1373,  0.1114])),\n",
              "             ('classification_block.1.weight',\n",
              "              tensor([[ 0.0286,  0.0246,  0.0711,  ..., -0.2440, -0.2914,  0.0600],\n",
              "                      [-0.0150,  0.0668,  0.2053,  ...,  0.1919, -0.1713, -0.0537],\n",
              "                      [-0.0253,  0.0064, -0.0562,  ...,  0.0760,  0.4015,  0.1223],\n",
              "                      ...,\n",
              "                      [ 0.0093,  0.0011, -0.1221,  ..., -0.1506, -0.2012, -0.0478],\n",
              "                      [ 0.0205,  0.0608, -0.0881,  ..., -0.1282, -0.5357, -0.1281],\n",
              "                      [-0.0158, -0.0645, -0.0189,  ...,  0.1806,  0.1190,  0.0117]])),\n",
              "             ('classification_block.1.bias',\n",
              "              tensor([ 0.0716, -0.1152,  0.2200,  0.0253, -0.2489, -0.0103,  0.0077,  0.0250,\n",
              "                       0.0800, -0.0621]))])"
            ]
          },
          "metadata": {},
          "execution_count": 163
        }
      ]
    },
    {
      "cell_type": "code",
      "source": [],
      "metadata": {
        "id": "nKhfuEL0Tr5p"
      },
      "execution_count": null,
      "outputs": []
    }
  ]
}